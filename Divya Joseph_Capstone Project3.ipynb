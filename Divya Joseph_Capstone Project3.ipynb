{
 "cells": [
  {
   "cell_type": "code",
   "execution_count": 27,
   "id": "67da832c-9892-4e29-9440-f394ceba39f8",
   "metadata": {},
   "outputs": [],
   "source": [
    "import tensorflow as tf\n",
    "import numpy as np\n",
    "import pandas as pd\n",
    "import matplotlib.pyplot as plt\n",
    "import seaborn as sns\n",
    "from tensorflow.keras.layers import TextVectorization\n",
    "import re,string\n",
    "from tensorflow.keras.layers import LSTM,Dense,Embedding,Dropout,LayerNormalization"
   ]
  },
  {
   "cell_type": "code",
   "execution_count": 28,
   "id": "60a1d39f-86d7-4edf-9a06-273fe45a2ac9",
   "metadata": {},
   "outputs": [
    {
     "name": "stdout",
     "output_type": "stream",
     "text": [
      "Dataframe size: 3725\n"
     ]
    },
    {
     "data": {
      "text/html": [
       "<div>\n",
       "<style scoped>\n",
       "    .dataframe tbody tr th:only-of-type {\n",
       "        vertical-align: middle;\n",
       "    }\n",
       "\n",
       "    .dataframe tbody tr th {\n",
       "        vertical-align: top;\n",
       "    }\n",
       "\n",
       "    .dataframe thead th {\n",
       "        text-align: right;\n",
       "    }\n",
       "</style>\n",
       "<table border=\"1\" class=\"dataframe\">\n",
       "  <thead>\n",
       "    <tr style=\"text-align: right;\">\n",
       "      <th></th>\n",
       "      <th>question</th>\n",
       "      <th>answer</th>\n",
       "    </tr>\n",
       "  </thead>\n",
       "  <tbody>\n",
       "    <tr>\n",
       "      <th>0</th>\n",
       "      <td>hi, how are you doing?</td>\n",
       "      <td>i'm fine. how about yourself?</td>\n",
       "    </tr>\n",
       "    <tr>\n",
       "      <th>1</th>\n",
       "      <td>i'm fine. how about yourself?</td>\n",
       "      <td>i'm pretty good. thanks for asking.</td>\n",
       "    </tr>\n",
       "    <tr>\n",
       "      <th>2</th>\n",
       "      <td>i'm pretty good. thanks for asking.</td>\n",
       "      <td>no problem. so how have you been?</td>\n",
       "    </tr>\n",
       "    <tr>\n",
       "      <th>3</th>\n",
       "      <td>no problem. so how have you been?</td>\n",
       "      <td>i've been great. what about you?</td>\n",
       "    </tr>\n",
       "    <tr>\n",
       "      <th>4</th>\n",
       "      <td>i've been great. what about you?</td>\n",
       "      <td>i've been good. i'm in school right now.</td>\n",
       "    </tr>\n",
       "  </tbody>\n",
       "</table>\n",
       "</div>"
      ],
      "text/plain": [
       "                              question  \\\n",
       "0               hi, how are you doing?   \n",
       "1        i'm fine. how about yourself?   \n",
       "2  i'm pretty good. thanks for asking.   \n",
       "3    no problem. so how have you been?   \n",
       "4     i've been great. what about you?   \n",
       "\n",
       "                                     answer  \n",
       "0             i'm fine. how about yourself?  \n",
       "1       i'm pretty good. thanks for asking.  \n",
       "2         no problem. so how have you been?  \n",
       "3          i've been great. what about you?  \n",
       "4  i've been good. i'm in school right now.  "
      ]
     },
     "execution_count": 28,
     "metadata": {},
     "output_type": "execute_result"
    }
   ],
   "source": [
    "# Load data\n",
    "df = pd.read_csv('dialogs.txt', sep='\\t', names=['question', 'answer'])\n",
    "print(f'Dataframe size: {len(df)}')\n",
    "df.head()"
   ]
  },
  {
   "cell_type": "markdown",
   "id": "9bfce344-9479-41d1-a18e-dfa12edca7d9",
   "metadata": {},
   "source": [
    "## Data Preprocessing"
   ]
  },
  {
   "cell_type": "code",
   "execution_count": 31,
   "id": "84966c20-3845-4daa-bbc5-ad905beeb40e",
   "metadata": {},
   "outputs": [],
   "source": [
    "df['question tokens']=df['question'].apply(lambda x:len(x.split()))\n",
    "df['answer tokens']=df['answer'].apply(lambda x:len(x.split()))"
   ]
  },
  {
   "cell_type": "code",
   "execution_count": 32,
   "id": "e46a5afd-feb7-4537-a02c-fbe3feaf0d68",
   "metadata": {},
   "outputs": [
    {
     "data": {
      "text/html": [
       "<div>\n",
       "<style scoped>\n",
       "    .dataframe tbody tr th:only-of-type {\n",
       "        vertical-align: middle;\n",
       "    }\n",
       "\n",
       "    .dataframe tbody tr th {\n",
       "        vertical-align: top;\n",
       "    }\n",
       "\n",
       "    .dataframe thead th {\n",
       "        text-align: right;\n",
       "    }\n",
       "</style>\n",
       "<table border=\"1\" class=\"dataframe\">\n",
       "  <thead>\n",
       "    <tr style=\"text-align: right;\">\n",
       "      <th></th>\n",
       "      <th>question</th>\n",
       "      <th>answer</th>\n",
       "      <th>encoder_inputs</th>\n",
       "      <th>decoder_targets</th>\n",
       "      <th>decoder_inputs</th>\n",
       "    </tr>\n",
       "  </thead>\n",
       "  <tbody>\n",
       "    <tr>\n",
       "      <th>0</th>\n",
       "      <td>hi, how are you doing?</td>\n",
       "      <td>i'm fine. how about yourself?</td>\n",
       "      <td>hi ,  how are you doing ?</td>\n",
       "      <td>i ' m fine .  how about yourself ?  &lt;end&gt;</td>\n",
       "      <td>&lt;start&gt; i ' m fine .  how about yourself ?  &lt;end&gt;</td>\n",
       "    </tr>\n",
       "    <tr>\n",
       "      <th>1</th>\n",
       "      <td>i'm fine. how about yourself?</td>\n",
       "      <td>i'm pretty good. thanks for asking.</td>\n",
       "      <td>i ' m fine .  how about yourself ?</td>\n",
       "      <td>i ' m pretty good .  thanks for asking .  &lt;end&gt;</td>\n",
       "      <td>&lt;start&gt; i ' m pretty good .  thanks for asking...</td>\n",
       "    </tr>\n",
       "    <tr>\n",
       "      <th>2</th>\n",
       "      <td>i'm pretty good. thanks for asking.</td>\n",
       "      <td>no problem. so how have you been?</td>\n",
       "      <td>i ' m pretty good .  thanks for asking .</td>\n",
       "      <td>no problem .  so how have you been ?  &lt;end&gt;</td>\n",
       "      <td>&lt;start&gt; no problem .  so how have you been ?  ...</td>\n",
       "    </tr>\n",
       "    <tr>\n",
       "      <th>3</th>\n",
       "      <td>no problem. so how have you been?</td>\n",
       "      <td>i've been great. what about you?</td>\n",
       "      <td>no problem .  so how have you been ?</td>\n",
       "      <td>i ' ve been great .  what about you ?  &lt;end&gt;</td>\n",
       "      <td>&lt;start&gt; i ' ve been great .  what about you ? ...</td>\n",
       "    </tr>\n",
       "    <tr>\n",
       "      <th>4</th>\n",
       "      <td>i've been great. what about you?</td>\n",
       "      <td>i've been good. i'm in school right now.</td>\n",
       "      <td>i ' ve been great .  what about you ?</td>\n",
       "      <td>i ' ve been good .  i ' m in school right now ...</td>\n",
       "      <td>&lt;start&gt; i ' ve been good .  i ' m in school ri...</td>\n",
       "    </tr>\n",
       "    <tr>\n",
       "      <th>5</th>\n",
       "      <td>i've been good. i'm in school right now.</td>\n",
       "      <td>what school do you go to?</td>\n",
       "      <td>i ' ve been good .  i ' m in school right now .</td>\n",
       "      <td>what school do you go to ?  &lt;end&gt;</td>\n",
       "      <td>&lt;start&gt; what school do you go to ?  &lt;end&gt;</td>\n",
       "    </tr>\n",
       "    <tr>\n",
       "      <th>6</th>\n",
       "      <td>what school do you go to?</td>\n",
       "      <td>i go to pcc.</td>\n",
       "      <td>what school do you go to ?</td>\n",
       "      <td>i go to pcc .  &lt;end&gt;</td>\n",
       "      <td>&lt;start&gt; i go to pcc .  &lt;end&gt;</td>\n",
       "    </tr>\n",
       "    <tr>\n",
       "      <th>7</th>\n",
       "      <td>i go to pcc.</td>\n",
       "      <td>do you like it there?</td>\n",
       "      <td>i go to pcc .</td>\n",
       "      <td>do you like it there ?  &lt;end&gt;</td>\n",
       "      <td>&lt;start&gt; do you like it there ?  &lt;end&gt;</td>\n",
       "    </tr>\n",
       "    <tr>\n",
       "      <th>8</th>\n",
       "      <td>do you like it there?</td>\n",
       "      <td>it's okay. it's a really big campus.</td>\n",
       "      <td>do you like it there ?</td>\n",
       "      <td>it ' s okay .  it ' s a really big campus .  &lt;...</td>\n",
       "      <td>&lt;start&gt; it ' s okay .  it ' s a really big cam...</td>\n",
       "    </tr>\n",
       "    <tr>\n",
       "      <th>9</th>\n",
       "      <td>it's okay. it's a really big campus.</td>\n",
       "      <td>good luck with school.</td>\n",
       "      <td>it ' s okay .  it ' s a really big campus .</td>\n",
       "      <td>good luck with school .  &lt;end&gt;</td>\n",
       "      <td>&lt;start&gt; good luck with school .  &lt;end&gt;</td>\n",
       "    </tr>\n",
       "  </tbody>\n",
       "</table>\n",
       "</div>"
      ],
      "text/plain": [
       "                                   question  \\\n",
       "0                    hi, how are you doing?   \n",
       "1             i'm fine. how about yourself?   \n",
       "2       i'm pretty good. thanks for asking.   \n",
       "3         no problem. so how have you been?   \n",
       "4          i've been great. what about you?   \n",
       "5  i've been good. i'm in school right now.   \n",
       "6                 what school do you go to?   \n",
       "7                              i go to pcc.   \n",
       "8                     do you like it there?   \n",
       "9      it's okay. it's a really big campus.   \n",
       "\n",
       "                                     answer  \\\n",
       "0             i'm fine. how about yourself?   \n",
       "1       i'm pretty good. thanks for asking.   \n",
       "2         no problem. so how have you been?   \n",
       "3          i've been great. what about you?   \n",
       "4  i've been good. i'm in school right now.   \n",
       "5                 what school do you go to?   \n",
       "6                              i go to pcc.   \n",
       "7                     do you like it there?   \n",
       "8      it's okay. it's a really big campus.   \n",
       "9                    good luck with school.   \n",
       "\n",
       "                                     encoder_inputs  \\\n",
       "0                        hi ,  how are you doing ?    \n",
       "1               i ' m fine .  how about yourself ?    \n",
       "2         i ' m pretty good .  thanks for asking .    \n",
       "3             no problem .  so how have you been ?    \n",
       "4            i ' ve been great .  what about you ?    \n",
       "5  i ' ve been good .  i ' m in school right now .    \n",
       "6                       what school do you go to ?    \n",
       "7                                    i go to pcc .    \n",
       "8                           do you like it there ?    \n",
       "9      it ' s okay .  it ' s a really big campus .    \n",
       "\n",
       "                                     decoder_targets  \\\n",
       "0          i ' m fine .  how about yourself ?  <end>   \n",
       "1    i ' m pretty good .  thanks for asking .  <end>   \n",
       "2        no problem .  so how have you been ?  <end>   \n",
       "3       i ' ve been great .  what about you ?  <end>   \n",
       "4  i ' ve been good .  i ' m in school right now ...   \n",
       "5                  what school do you go to ?  <end>   \n",
       "6                               i go to pcc .  <end>   \n",
       "7                      do you like it there ?  <end>   \n",
       "8  it ' s okay .  it ' s a really big campus .  <...   \n",
       "9                     good luck with school .  <end>   \n",
       "\n",
       "                                      decoder_inputs  \n",
       "0  <start> i ' m fine .  how about yourself ?  <end>  \n",
       "1  <start> i ' m pretty good .  thanks for asking...  \n",
       "2  <start> no problem .  so how have you been ?  ...  \n",
       "3  <start> i ' ve been great .  what about you ? ...  \n",
       "4  <start> i ' ve been good .  i ' m in school ri...  \n",
       "5          <start> what school do you go to ?  <end>  \n",
       "6                       <start> i go to pcc .  <end>  \n",
       "7              <start> do you like it there ?  <end>  \n",
       "8  <start> it ' s okay .  it ' s a really big cam...  \n",
       "9             <start> good luck with school .  <end>  "
      ]
     },
     "execution_count": 32,
     "metadata": {},
     "output_type": "execute_result"
    }
   ],
   "source": [
    "def clean_text(text):\n",
    "    text=re.sub('-',' ',text.lower())\n",
    "    text=re.sub('[.]',' . ',text)\n",
    "    text=re.sub('[1]',' 1 ',text)\n",
    "    text=re.sub('[2]',' 2 ',text)\n",
    "    text=re.sub('[3]',' 3 ',text)\n",
    "    text=re.sub('[4]',' 4 ',text)\n",
    "    text=re.sub('[5]',' 5 ',text)\n",
    "    text=re.sub('[6]',' 6 ',text)\n",
    "    text=re.sub('[7]',' 7 ',text)\n",
    "    text=re.sub('[8]',' 8 ',text)\n",
    "    text=re.sub('[9]',' 9 ',text)\n",
    "    text=re.sub('[0]',' 0 ',text)\n",
    "    text=re.sub('[,]',' , ',text)\n",
    "    text=re.sub('[?]',' ? ',text)\n",
    "    text=re.sub('[!]',' ! ',text)\n",
    "    text=re.sub('[$]',' $ ',text)\n",
    "    text=re.sub('[&]',' & ',text)\n",
    "    text=re.sub('[/]',' / ',text)\n",
    "    text=re.sub('[:]',' : ',text)\n",
    "    text=re.sub('[;]',' ; ',text)\n",
    "    text=re.sub('[*]',' * ',text)\n",
    "    text=re.sub('[\\']',' \\' ',text)\n",
    "    text=re.sub('[\\\"]',' \\\" ',text)\n",
    "    text=re.sub('\\t',' ',text)\n",
    "    return text\n",
    "\n",
    "df.drop(columns=['answer tokens','question tokens'],axis=1,inplace=True)\n",
    "df['encoder_inputs']=df['question'].apply(clean_text)\n",
    "df['decoder_targets']=df['answer'].apply(clean_text)+' <end>'\n",
    "df['decoder_inputs']='<start> '+df['answer'].apply(clean_text)+' <end>'\n",
    "\n",
    "df.head(10)"
   ]
  },
  {
   "cell_type": "code",
   "execution_count": 33,
   "id": "044281b6-3da6-481f-910a-d97c806b2a45",
   "metadata": {},
   "outputs": [],
   "source": [
    "df['encoder input tokens']=df['encoder_inputs'].apply(lambda x:len(x.split()))\n",
    "df['decoder input tokens']=df['decoder_inputs'].apply(lambda x:len(x.split()))\n",
    "df['decoder target tokens']=df['decoder_targets'].apply(lambda x:len(x.split()))"
   ]
  },
  {
   "cell_type": "code",
   "execution_count": 34,
   "id": "952a7a4e-7da8-475b-8709-2171de590958",
   "metadata": {},
   "outputs": [
    {
     "name": "stdout",
     "output_type": "stream",
     "text": [
      "After preprocessing: for example ,  if your birth date is january  1  2  ,   1  9  8  7  ,  write  0  1  /  1  2  /  8  7  . \n",
      "Max encoder input length: 27\n",
      "Max decoder input length: 29\n",
      "Max decoder target length: 28\n"
     ]
    },
    {
     "data": {
      "text/html": [
       "<div>\n",
       "<style scoped>\n",
       "    .dataframe tbody tr th:only-of-type {\n",
       "        vertical-align: middle;\n",
       "    }\n",
       "\n",
       "    .dataframe tbody tr th {\n",
       "        vertical-align: top;\n",
       "    }\n",
       "\n",
       "    .dataframe thead th {\n",
       "        text-align: right;\n",
       "    }\n",
       "</style>\n",
       "<table border=\"1\" class=\"dataframe\">\n",
       "  <thead>\n",
       "    <tr style=\"text-align: right;\">\n",
       "      <th></th>\n",
       "      <th>encoder_inputs</th>\n",
       "      <th>decoder_targets</th>\n",
       "      <th>decoder_inputs</th>\n",
       "    </tr>\n",
       "  </thead>\n",
       "  <tbody>\n",
       "    <tr>\n",
       "      <th>0</th>\n",
       "      <td>hi ,  how are you doing ?</td>\n",
       "      <td>i ' m fine .  how about yourself ?  &lt;end&gt;</td>\n",
       "      <td>&lt;start&gt; i ' m fine .  how about yourself ?  &lt;end&gt;</td>\n",
       "    </tr>\n",
       "    <tr>\n",
       "      <th>1</th>\n",
       "      <td>i ' m fine .  how about yourself ?</td>\n",
       "      <td>i ' m pretty good .  thanks for asking .  &lt;end&gt;</td>\n",
       "      <td>&lt;start&gt; i ' m pretty good .  thanks for asking...</td>\n",
       "    </tr>\n",
       "    <tr>\n",
       "      <th>2</th>\n",
       "      <td>i ' m pretty good .  thanks for asking .</td>\n",
       "      <td>no problem .  so how have you been ?  &lt;end&gt;</td>\n",
       "      <td>&lt;start&gt; no problem .  so how have you been ?  ...</td>\n",
       "    </tr>\n",
       "    <tr>\n",
       "      <th>3</th>\n",
       "      <td>no problem .  so how have you been ?</td>\n",
       "      <td>i ' ve been great .  what about you ?  &lt;end&gt;</td>\n",
       "      <td>&lt;start&gt; i ' ve been great .  what about you ? ...</td>\n",
       "    </tr>\n",
       "    <tr>\n",
       "      <th>4</th>\n",
       "      <td>i ' ve been great .  what about you ?</td>\n",
       "      <td>i ' ve been good .  i ' m in school right now ...</td>\n",
       "      <td>&lt;start&gt; i ' ve been good .  i ' m in school ri...</td>\n",
       "    </tr>\n",
       "    <tr>\n",
       "      <th>5</th>\n",
       "      <td>i ' ve been good .  i ' m in school right now .</td>\n",
       "      <td>what school do you go to ?  &lt;end&gt;</td>\n",
       "      <td>&lt;start&gt; what school do you go to ?  &lt;end&gt;</td>\n",
       "    </tr>\n",
       "    <tr>\n",
       "      <th>6</th>\n",
       "      <td>what school do you go to ?</td>\n",
       "      <td>i go to pcc .  &lt;end&gt;</td>\n",
       "      <td>&lt;start&gt; i go to pcc .  &lt;end&gt;</td>\n",
       "    </tr>\n",
       "    <tr>\n",
       "      <th>7</th>\n",
       "      <td>i go to pcc .</td>\n",
       "      <td>do you like it there ?  &lt;end&gt;</td>\n",
       "      <td>&lt;start&gt; do you like it there ?  &lt;end&gt;</td>\n",
       "    </tr>\n",
       "    <tr>\n",
       "      <th>8</th>\n",
       "      <td>do you like it there ?</td>\n",
       "      <td>it ' s okay .  it ' s a really big campus .  &lt;...</td>\n",
       "      <td>&lt;start&gt; it ' s okay .  it ' s a really big cam...</td>\n",
       "    </tr>\n",
       "    <tr>\n",
       "      <th>9</th>\n",
       "      <td>it ' s okay .  it ' s a really big campus .</td>\n",
       "      <td>good luck with school .  &lt;end&gt;</td>\n",
       "      <td>&lt;start&gt; good luck with school .  &lt;end&gt;</td>\n",
       "    </tr>\n",
       "  </tbody>\n",
       "</table>\n",
       "</div>"
      ],
      "text/plain": [
       "                                     encoder_inputs  \\\n",
       "0                        hi ,  how are you doing ?    \n",
       "1               i ' m fine .  how about yourself ?    \n",
       "2         i ' m pretty good .  thanks for asking .    \n",
       "3             no problem .  so how have you been ?    \n",
       "4            i ' ve been great .  what about you ?    \n",
       "5  i ' ve been good .  i ' m in school right now .    \n",
       "6                       what school do you go to ?    \n",
       "7                                    i go to pcc .    \n",
       "8                           do you like it there ?    \n",
       "9      it ' s okay .  it ' s a really big campus .    \n",
       "\n",
       "                                     decoder_targets  \\\n",
       "0          i ' m fine .  how about yourself ?  <end>   \n",
       "1    i ' m pretty good .  thanks for asking .  <end>   \n",
       "2        no problem .  so how have you been ?  <end>   \n",
       "3       i ' ve been great .  what about you ?  <end>   \n",
       "4  i ' ve been good .  i ' m in school right now ...   \n",
       "5                  what school do you go to ?  <end>   \n",
       "6                               i go to pcc .  <end>   \n",
       "7                      do you like it there ?  <end>   \n",
       "8  it ' s okay .  it ' s a really big campus .  <...   \n",
       "9                     good luck with school .  <end>   \n",
       "\n",
       "                                      decoder_inputs  \n",
       "0  <start> i ' m fine .  how about yourself ?  <end>  \n",
       "1  <start> i ' m pretty good .  thanks for asking...  \n",
       "2  <start> no problem .  so how have you been ?  ...  \n",
       "3  <start> i ' ve been great .  what about you ? ...  \n",
       "4  <start> i ' ve been good .  i ' m in school ri...  \n",
       "5          <start> what school do you go to ?  <end>  \n",
       "6                       <start> i go to pcc .  <end>  \n",
       "7              <start> do you like it there ?  <end>  \n",
       "8  <start> it ' s okay .  it ' s a really big cam...  \n",
       "9             <start> good luck with school .  <end>  "
      ]
     },
     "execution_count": 34,
     "metadata": {},
     "output_type": "execute_result"
    }
   ],
   "source": [
    "print(f\"After preprocessing: {' '.join(df[df['encoder input tokens'].max()==df['encoder input tokens']]['encoder_inputs'].values.tolist())}\")\n",
    "print(f\"Max encoder input length: {df['encoder input tokens'].max()}\")\n",
    "print(f\"Max decoder input length: {df['decoder input tokens'].max()}\")\n",
    "print(f\"Max decoder target length: {df['decoder target tokens'].max()}\")\n",
    "\n",
    "df.drop(columns=['question','answer','encoder input tokens','decoder input tokens','decoder target tokens'],axis=1,inplace=True)\n",
    "params={\n",
    "    \"vocab_size\":2500,\n",
    "    \"max_sequence_length\":30,\n",
    "    \"learning_rate\":0.008,\n",
    "    \"batch_size\":149,\n",
    "    \"lstm_cells\":256,\n",
    "    \"embedding_dim\":256,\n",
    "    \"buffer_size\":10000\n",
    "}\n",
    "learning_rate=params['learning_rate']\n",
    "batch_size=params['batch_size']\n",
    "embedding_dim=params['embedding_dim']\n",
    "lstm_cells=params['lstm_cells']\n",
    "vocab_size=params['vocab_size']\n",
    "buffer_size=params['buffer_size']\n",
    "max_sequence_length=params['max_sequence_length']\n",
    "df.head(10)"
   ]
  },
  {
   "cell_type": "markdown",
   "id": "394c05ff-0284-4b77-a848-db22c493b916",
   "metadata": {},
   "source": [
    "### Tokenization"
   ]
  },
  {
   "cell_type": "code",
   "execution_count": 35,
   "id": "c8e7d9f6-ee43-4650-b717-45326b9b35a6",
   "metadata": {},
   "outputs": [
    {
     "name": "stdout",
     "output_type": "stream",
     "text": [
      "Vocab size: 2443\n",
      "['', '[UNK]', '<end>', '.', '<start>', \"'\", 'i', '?', 'you', ',', 'the', 'to']\n"
     ]
    }
   ],
   "source": [
    "vectorize_layer=TextVectorization(\n",
    "    max_tokens=vocab_size,\n",
    "    standardize=None,\n",
    "    output_mode='int',\n",
    "    output_sequence_length=max_sequence_length\n",
    ")\n",
    "vectorize_layer.adapt(df['encoder_inputs']+' '+df['decoder_targets']+' <start> <end>')\n",
    "vocab_size=len(vectorize_layer.get_vocabulary())\n",
    "print(f'Vocab size: {len(vectorize_layer.get_vocabulary())}')\n",
    "print(f'{vectorize_layer.get_vocabulary()[:12]}')"
   ]
  },
  {
   "cell_type": "code",
   "execution_count": 36,
   "id": "0ae7dc51-c059-4b49-b471-fcbecd1ccf3e",
   "metadata": {},
   "outputs": [
    {
     "name": "stdout",
     "output_type": "stream",
     "text": [
      "Question sentence: hi , how are you ?\n",
      "Question to tokens: [1971    9   45   24    8    7    0    0    0    0]\n",
      "Encoder input shape: (3725, 30)\n",
      "Decoder input shape: (3725, 30)\n",
      "Decoder target shape: (3725, 30)\n"
     ]
    }
   ],
   "source": [
    "def sequences2ids(sequence):\n",
    "    return vectorize_layer(sequence)\n",
    "\n",
    "def ids2sequences(ids):\n",
    "    decode=''\n",
    "    if type(ids)==int:\n",
    "        ids=[ids]\n",
    "    for id in ids:\n",
    "        decode+=vectorize_layer.get_vocabulary()[id]+' '\n",
    "    return decode\n",
    "\n",
    "x=sequences2ids(df['encoder_inputs'])\n",
    "yd=sequences2ids(df['decoder_inputs'])\n",
    "y=sequences2ids(df['decoder_targets'])\n",
    "\n",
    "print(f'Question sentence: hi , how are you ?')\n",
    "print(f'Question to tokens: {sequences2ids(\"hi , how are you ?\")[:10]}')\n",
    "print(f'Encoder input shape: {x.shape}')\n",
    "print(f'Decoder input shape: {yd.shape}')\n",
    "print(f'Decoder target shape: {y.shape}')"
   ]
  },
  {
   "cell_type": "code",
   "execution_count": 37,
   "id": "948b7438-063b-4f30-9a24-1d309f9b00e3",
   "metadata": {},
   "outputs": [
    {
     "name": "stdout",
     "output_type": "stream",
     "text": [
      "Encoder input: [1971    9   45   24    8  194    7    0    0    0    0    0] ...\n",
      "Decoder input: [  4   6   5  38 646   3  45  41 563   7   2   0] ...\n",
      "Decoder target: [  6   5  38 646   3  45  41 563   7   2   0   0] ...\n"
     ]
    }
   ],
   "source": [
    "print(f'Encoder input: {x[0][:12]} ...')\n",
    "print(f'Decoder input: {yd[0][:12]} ...')    # shifted by one time step of the target as input to decoder is the output of the previous timestep\n",
    "print(f'Decoder target: {y[0][:12]} ...')"
   ]
  },
  {
   "cell_type": "code",
   "execution_count": 38,
   "id": "4222f923-82b9-450d-8303-a6896b3c3934",
   "metadata": {},
   "outputs": [
    {
     "name": "stdout",
     "output_type": "stream",
     "text": [
      "Number of train batches: 23\n",
      "Number of training data: 3427\n",
      "Number of validation batches: 3\n",
      "Number of validation data: 447\n",
      "Encoder Input shape (with batches): (149, 30)\n",
      "Decoder Input shape (with batches): (149, 30)\n",
      "Target Output shape (with batches): (149, 30)\n"
     ]
    }
   ],
   "source": [
    "data=tf.data.Dataset.from_tensor_slices((x,yd,y))\n",
    "data=data.shuffle(buffer_size)\n",
    "\n",
    "train_data=data.take(int(.9*len(data)))\n",
    "train_data=train_data.cache()\n",
    "train_data=train_data.shuffle(buffer_size)\n",
    "train_data=train_data.batch(batch_size)\n",
    "train_data=train_data.prefetch(tf.data.AUTOTUNE)\n",
    "train_data_iterator=train_data.as_numpy_iterator()\n",
    "\n",
    "val_data=data.skip(int(.9*len(data))).take(int(.1*len(data)))\n",
    "val_data=val_data.batch(batch_size)\n",
    "val_data=val_data.prefetch(tf.data.AUTOTUNE)\n",
    "\n",
    "_=train_data_iterator.next()\n",
    "print(f'Number of train batches: {len(train_data)}')\n",
    "print(f'Number of training data: {len(train_data)*batch_size}')\n",
    "print(f'Number of validation batches: {len(val_data)}')\n",
    "print(f'Number of validation data: {len(val_data)*batch_size}')\n",
    "print(f'Encoder Input shape (with batches): {_[0].shape}')\n",
    "print(f'Decoder Input shape (with batches): {_[1].shape}')\n",
    "print(f'Target Output shape (with batches): {_[2].shape}')"
   ]
  },
  {
   "cell_type": "markdown",
   "id": "68c5c35b-7633-4632-84af-ea8c56d9cec0",
   "metadata": {},
   "source": [
    "## Build Model\n"
   ]
  },
  {
   "cell_type": "markdown",
   "id": "afd5067c-8997-4588-9762-06dfcca28cdf",
   "metadata": {},
   "source": [
    "### Build Encoder"
   ]
  },
  {
   "cell_type": "code",
   "execution_count": 40,
   "id": "e532b35d-226d-4603-8b85-f4eaa293db80",
   "metadata": {},
   "outputs": [
    {
     "name": "stdout",
     "output_type": "stream",
     "text": [
      "WARNING:tensorflow:From D:\\Anaconda\\Lib\\site-packages\\keras\\src\\layers\\normalization\\layer_normalization.py:328: The name tf.nn.fused_batch_norm is deprecated. Please use tf.compat.v1.nn.fused_batch_norm instead.\n",
      "\n"
     ]
    },
    {
     "data": {
      "text/plain": [
       "(<tf.Tensor: shape=(149, 256), dtype=float32, numpy=\n",
       " array([[ 0.08798646, -0.15058647,  0.02753651, ..., -0.1793406 ,\n",
       "          0.05667065,  0.05056981],\n",
       "        [-0.06291704,  0.2575921 , -0.10325162, ...,  0.02068082,\n",
       "         -0.08701702, -0.08480997],\n",
       "        [ 0.08971894, -0.23651047, -0.02512948, ..., -0.05419142,\n",
       "          0.06193873, -0.02851639],\n",
       "        ...,\n",
       "        [-0.10819263,  0.13401273,  0.00113817, ..., -0.00320193,\n",
       "         -0.11680327,  0.01062897],\n",
       "        [ 0.01140539, -0.28585178,  0.17251968, ..., -0.05974151,\n",
       "          0.11115805,  0.00508026],\n",
       "        [-0.16059557,  0.21808946,  0.06046625, ..., -0.09781376,\n",
       "          0.08940868, -0.1130389 ]], dtype=float32)>,\n",
       " <tf.Tensor: shape=(149, 256), dtype=float32, numpy=\n",
       " array([[ 0.20149471, -0.25329816,  0.04971316, ..., -0.40015873,\n",
       "          0.14117879,  0.09908107],\n",
       "        [-0.14025873,  0.5333494 , -0.20139319, ...,  0.07755135,\n",
       "         -0.15615952, -0.14755604],\n",
       "        [ 0.19277647, -0.42916125, -0.04468913, ..., -0.11773062,\n",
       "          0.15162715, -0.05571758],\n",
       "        ...,\n",
       "        [-0.26398408,  0.2498287 ,  0.0021245 , ..., -0.01208417,\n",
       "         -0.21226749,  0.01798189],\n",
       "        [ 0.02571344, -0.5149411 ,  0.30852553, ..., -0.1289951 ,\n",
       "          0.2870551 ,  0.01028314],\n",
       "        [-0.4153566 ,  0.43084335,  0.11331789, ..., -0.36321917,\n",
       "          0.15851232, -0.18970206]], dtype=float32)>)"
      ]
     },
     "execution_count": 40,
     "metadata": {},
     "output_type": "execute_result"
    }
   ],
   "source": [
    "class Encoder(tf.keras.models.Model):\n",
    "    def __init__(self,units,embedding_dim,vocab_size,*args,**kwargs) -> None:\n",
    "        super().__init__(*args,**kwargs)\n",
    "        self.units=units\n",
    "        self.vocab_size=vocab_size\n",
    "        self.embedding_dim=embedding_dim\n",
    "        self.embedding=Embedding(\n",
    "            vocab_size,\n",
    "            embedding_dim,\n",
    "            name='encoder_embedding',\n",
    "            mask_zero=True,\n",
    "            embeddings_initializer=tf.keras.initializers.GlorotNormal()\n",
    "        )\n",
    "        self.normalize=LayerNormalization()\n",
    "        self.lstm=LSTM(\n",
    "            units,\n",
    "            dropout=.4,\n",
    "            return_state=True,\n",
    "            return_sequences=True,\n",
    "            name='encoder_lstm',\n",
    "            kernel_initializer=tf.keras.initializers.GlorotNormal()\n",
    "        )\n",
    "    \n",
    "    def call(self,encoder_inputs):\n",
    "        self.inputs=encoder_inputs\n",
    "        x=self.embedding(encoder_inputs)\n",
    "        x=self.normalize(x)\n",
    "        x=Dropout(.4)(x)\n",
    "        encoder_outputs,encoder_state_h,encoder_state_c=self.lstm(x)\n",
    "        self.outputs=[encoder_state_h,encoder_state_c]\n",
    "        return encoder_state_h,encoder_state_c\n",
    "\n",
    "encoder=Encoder(lstm_cells,embedding_dim,vocab_size,name='encoder')\n",
    "encoder.call(_[0])"
   ]
  },
  {
   "cell_type": "markdown",
   "id": "14e0ac94-63a9-40ea-8370-0ccbdf2cd5d1",
   "metadata": {},
   "source": [
    "#### Build Decoder"
   ]
  },
  {
   "cell_type": "code",
   "execution_count": 41,
   "id": "c0701a63-d6ec-43c7-ae8c-aad16a14b6f2",
   "metadata": {},
   "outputs": [
    {
     "data": {
      "text/plain": [
       "<tf.Tensor: shape=(1, 30, 2443), dtype=float32, numpy=\n",
       "array([[[8.5867319e-04, 7.6224160e-04, 6.7607744e-04, ...,\n",
       "         6.9310062e-04, 1.5806061e-03, 1.3279649e-04],\n",
       "        [1.3034253e-03, 1.1992966e-03, 3.5468426e-03, ...,\n",
       "         5.2449241e-04, 7.8005018e-03, 4.6438113e-04],\n",
       "        [2.4037890e-04, 6.7715679e-04, 8.6292960e-03, ...,\n",
       "         7.5908727e-04, 1.1703254e-03, 2.5377524e-04],\n",
       "        ...,\n",
       "        [5.9103531e-06, 2.7079179e-05, 4.3100823e-05, ...,\n",
       "         3.7593065e-05, 4.8362048e-04, 1.5848152e-04],\n",
       "        [5.9103531e-06, 2.7079179e-05, 4.3100823e-05, ...,\n",
       "         3.7593065e-05, 4.8362048e-04, 1.5848152e-04],\n",
       "        [5.9103531e-06, 2.7079179e-05, 4.3100823e-05, ...,\n",
       "         3.7593065e-05, 4.8362048e-04, 1.5848152e-04]]], dtype=float32)>"
      ]
     },
     "execution_count": 41,
     "metadata": {},
     "output_type": "execute_result"
    }
   ],
   "source": [
    "class Decoder(tf.keras.models.Model):\n",
    "    def __init__(self,units,embedding_dim,vocab_size,*args,**kwargs) -> None:\n",
    "        super().__init__(*args,**kwargs)\n",
    "        self.units=units\n",
    "        self.embedding_dim=embedding_dim\n",
    "        self.vocab_size=vocab_size\n",
    "        self.embedding=Embedding(\n",
    "            vocab_size,\n",
    "            embedding_dim,\n",
    "            name='decoder_embedding',\n",
    "            mask_zero=True,\n",
    "            embeddings_initializer=tf.keras.initializers.HeNormal()\n",
    "        )\n",
    "        self.normalize=LayerNormalization()\n",
    "        self.lstm=LSTM(\n",
    "            units,\n",
    "            dropout=.4,\n",
    "            return_state=True,\n",
    "            return_sequences=True,\n",
    "            name='decoder_lstm',\n",
    "            kernel_initializer=tf.keras.initializers.HeNormal()\n",
    "        )\n",
    "        self.fc=Dense(\n",
    "            vocab_size,\n",
    "            activation='softmax',\n",
    "            name='decoder_dense',\n",
    "            kernel_initializer=tf.keras.initializers.HeNormal()\n",
    "        )\n",
    "    \n",
    "    def call(self,decoder_inputs,encoder_states):\n",
    "        x=self.embedding(decoder_inputs)\n",
    "        x=self.normalize(x)\n",
    "        x=Dropout(.4)(x)\n",
    "        x,decoder_state_h,decoder_state_c=self.lstm(x,initial_state=encoder_states)\n",
    "        x=self.normalize(x)\n",
    "        x=Dropout(.4)(x)\n",
    "        return self.fc(x)\n",
    "\n",
    "decoder=Decoder(lstm_cells,embedding_dim,vocab_size,name='decoder')\n",
    "decoder(_[1][:1],encoder(_[0][:1]))"
   ]
  },
  {
   "cell_type": "markdown",
   "id": "63884dbb-e1fa-4508-b171-58b40302b076",
   "metadata": {},
   "source": [
    "### Build Training Model"
   ]
  },
  {
   "cell_type": "code",
   "execution_count": 42,
   "id": "655db984-7e17-4a08-b127-4c77e93873c2",
   "metadata": {},
   "outputs": [],
   "source": [
    "class ChatBotTrainer(tf.keras.models.Model):\n",
    "    def __init__(self,encoder,decoder,*args,**kwargs):\n",
    "        super().__init__(*args,**kwargs)\n",
    "        self.encoder=encoder\n",
    "        self.decoder=decoder\n",
    "\n",
    "    def loss_fn(self,y_true,y_pred):\n",
    "        loss=self.loss(y_true,y_pred)\n",
    "        mask=tf.math.logical_not(tf.math.equal(y_true,0))\n",
    "        mask=tf.cast(mask,dtype=loss.dtype)\n",
    "        loss*=mask\n",
    "        return tf.reduce_mean(loss)\n",
    "    \n",
    "    def accuracy_fn(self,y_true,y_pred):\n",
    "        pred_values = tf.cast(tf.argmax(y_pred, axis=-1), dtype='int64')\n",
    "        correct = tf.cast(tf.equal(y_true, pred_values), dtype='float64')\n",
    "        mask = tf.cast(tf.greater(y_true, 0), dtype='float64')\n",
    "        n_correct = tf.keras.backend.sum(mask * correct)\n",
    "        n_total = tf.keras.backend.sum(mask)\n",
    "        return n_correct / n_total\n",
    "\n",
    "    def call(self,inputs):\n",
    "        encoder_inputs,decoder_inputs=inputs\n",
    "        encoder_states=self.encoder(encoder_inputs)\n",
    "        return self.decoder(decoder_inputs,encoder_states)\n",
    "\n",
    "    def train_step(self,batch):\n",
    "        encoder_inputs,decoder_inputs,y=batch\n",
    "        with tf.GradientTape() as tape:\n",
    "            encoder_states=self.encoder(encoder_inputs,training=True)\n",
    "            y_pred=self.decoder(decoder_inputs,encoder_states,training=True)\n",
    "            loss=self.loss_fn(y,y_pred)\n",
    "            acc=self.accuracy_fn(y,y_pred)\n",
    "\n",
    "        variables=self.encoder.trainable_variables+self.decoder.trainable_variables\n",
    "        grads=tape.gradient(loss,variables)\n",
    "        self.optimizer.apply_gradients(zip(grads,variables))\n",
    "        metrics={'loss':loss,'accuracy':acc}\n",
    "        return metrics\n",
    "    \n",
    "    def test_step(self,batch):\n",
    "        encoder_inputs,decoder_inputs,y=batch\n",
    "        encoder_states=self.encoder(encoder_inputs,training=True)\n",
    "        y_pred=self.decoder(decoder_inputs,encoder_states,training=True)\n",
    "        loss=self.loss_fn(y,y_pred)\n",
    "        acc=self.accuracy_fn(y,y_pred)\n",
    "        metrics={'loss':loss,'accuracy':acc}\n",
    "        return metrics"
   ]
  },
  {
   "cell_type": "code",
   "execution_count": 43,
   "id": "af99e341-d01b-410a-9f38-f2b19575598e",
   "metadata": {},
   "outputs": [
    {
     "data": {
      "text/plain": [
       "<tf.Tensor: shape=(149, 30, 2443), dtype=float32, numpy=\n",
       "array([[[8.58673186e-04, 7.62241601e-04, 6.76077441e-04, ...,\n",
       "         6.93100621e-04, 1.58060610e-03, 1.32796486e-04],\n",
       "        [1.30342529e-03, 1.19929656e-03, 3.54684261e-03, ...,\n",
       "         5.24492410e-04, 7.80050177e-03, 4.64381126e-04],\n",
       "        [2.40378897e-04, 6.77156786e-04, 8.62929597e-03, ...,\n",
       "         7.59087270e-04, 1.17032544e-03, 2.53775244e-04],\n",
       "        ...,\n",
       "        [5.91035314e-06, 2.70791788e-05, 4.31008229e-05, ...,\n",
       "         3.75930649e-05, 4.83620475e-04, 1.58481518e-04],\n",
       "        [5.91035314e-06, 2.70791788e-05, 4.31008229e-05, ...,\n",
       "         3.75930649e-05, 4.83620475e-04, 1.58481518e-04],\n",
       "        [5.91035314e-06, 2.70791788e-05, 4.31008229e-05, ...,\n",
       "         3.75930649e-05, 4.83620475e-04, 1.58481518e-04]],\n",
       "\n",
       "       [[7.39756098e-04, 4.54735942e-04, 6.76154086e-05, ...,\n",
       "         2.01181555e-03, 2.20974267e-04, 6.38973361e-05],\n",
       "        [2.19997804e-04, 2.06437271e-05, 7.52963169e-05, ...,\n",
       "         3.99296824e-03, 3.41744162e-04, 1.85279896e-05],\n",
       "        [6.51441689e-04, 6.38675847e-05, 6.43759922e-05, ...,\n",
       "         1.64615863e-04, 4.17114323e-04, 1.16455194e-04],\n",
       "        ...,\n",
       "        [1.13118749e-05, 6.94924602e-05, 1.01156329e-05, ...,\n",
       "         1.23615337e-05, 1.54810652e-04, 2.87589093e-04],\n",
       "        [1.13118749e-05, 6.94924602e-05, 1.01156329e-05, ...,\n",
       "         1.23615337e-05, 1.54810652e-04, 2.87589093e-04],\n",
       "        [1.13118749e-05, 6.94924602e-05, 1.01156329e-05, ...,\n",
       "         1.23615337e-05, 1.54810652e-04, 2.87589093e-04]],\n",
       "\n",
       "       [[2.42038560e-03, 2.35971165e-04, 1.92018182e-04, ...,\n",
       "         7.70579383e-04, 2.39872257e-03, 2.78483465e-04],\n",
       "        [1.47227035e-03, 1.62567288e-04, 2.87629286e-04, ...,\n",
       "         1.15119765e-04, 7.86756209e-05, 2.29230398e-04],\n",
       "        [1.00490201e-04, 3.96680589e-05, 1.75213048e-04, ...,\n",
       "         6.18727281e-05, 4.58549075e-05, 3.39803332e-03],\n",
       "        ...,\n",
       "        [1.10612409e-05, 1.22092912e-04, 3.55278135e-05, ...,\n",
       "         4.62363569e-05, 7.14740645e-06, 2.45350268e-04],\n",
       "        [1.10612409e-05, 1.22092912e-04, 3.55278135e-05, ...,\n",
       "         4.62363569e-05, 7.14740645e-06, 2.45350268e-04],\n",
       "        [1.10612409e-05, 1.22092912e-04, 3.55278135e-05, ...,\n",
       "         4.62363569e-05, 7.14740645e-06, 2.45350268e-04]],\n",
       "\n",
       "       ...,\n",
       "\n",
       "       [[6.05014851e-04, 1.06600998e-03, 1.59254516e-04, ...,\n",
       "         3.19989311e-04, 7.31678156e-04, 3.99625969e-05],\n",
       "        [7.22246768e-04, 7.21019460e-04, 1.21388010e-04, ...,\n",
       "         2.23464658e-03, 1.73154683e-03, 2.75146973e-04],\n",
       "        [8.51222576e-05, 4.33873764e-04, 1.50246359e-03, ...,\n",
       "         4.87372803e-04, 3.54982261e-03, 1.59658957e-04],\n",
       "        ...,\n",
       "        [6.40052167e-06, 5.76210332e-05, 3.47695895e-05, ...,\n",
       "         1.79008239e-05, 8.82108579e-04, 2.24725824e-04],\n",
       "        [6.40052167e-06, 5.76210332e-05, 3.47695895e-05, ...,\n",
       "         1.79008239e-05, 8.82108579e-04, 2.24725824e-04],\n",
       "        [6.40052167e-06, 5.76210332e-05, 3.47695895e-05, ...,\n",
       "         1.79008239e-05, 8.82108579e-04, 2.24725824e-04]],\n",
       "\n",
       "       [[6.63897605e-04, 5.22468064e-04, 2.11203194e-04, ...,\n",
       "         3.74663883e-04, 2.31197409e-04, 1.03297003e-04],\n",
       "        [3.39302380e-04, 7.86451928e-05, 1.33025416e-04, ...,\n",
       "         1.97439163e-04, 8.29345736e-05, 3.72337381e-04],\n",
       "        [1.80915886e-04, 1.77179754e-04, 6.63146056e-05, ...,\n",
       "         1.48127729e-03, 9.24731430e-04, 8.61078501e-04],\n",
       "        ...,\n",
       "        [1.79605431e-05, 5.16740474e-05, 3.61683124e-05, ...,\n",
       "         7.68528844e-05, 8.53933216e-06, 6.09311159e-04],\n",
       "        [1.79605431e-05, 5.16740474e-05, 3.61683124e-05, ...,\n",
       "         7.68528844e-05, 8.53933216e-06, 6.09311159e-04],\n",
       "        [1.79605431e-05, 5.16740474e-05, 3.61683124e-05, ...,\n",
       "         7.68528844e-05, 8.53933216e-06, 6.09311159e-04]],\n",
       "\n",
       "       [[1.63480698e-03, 1.62095268e-04, 1.10603360e-04, ...,\n",
       "         2.11334249e-04, 9.66379652e-04, 4.78923466e-05],\n",
       "        [2.85518006e-04, 1.32926143e-04, 4.87225989e-05, ...,\n",
       "         1.61077172e-04, 2.03606300e-03, 3.72461393e-04],\n",
       "        [2.79425440e-04, 2.87738803e-04, 2.32211896e-04, ...,\n",
       "         8.09321282e-05, 2.55562924e-03, 2.38177017e-04],\n",
       "        ...,\n",
       "        [3.95801226e-06, 1.44205434e-04, 2.63863803e-05, ...,\n",
       "         2.42728311e-05, 2.64848321e-04, 1.74602683e-05],\n",
       "        [3.95801226e-06, 1.44205434e-04, 2.63863803e-05, ...,\n",
       "         2.42728311e-05, 2.64848321e-04, 1.74602683e-05],\n",
       "        [3.95801226e-06, 1.44205434e-04, 2.63863803e-05, ...,\n",
       "         2.42728311e-05, 2.64848321e-04, 1.74602683e-05]]], dtype=float32)>"
      ]
     },
     "execution_count": 43,
     "metadata": {},
     "output_type": "execute_result"
    }
   ],
   "source": [
    "model=ChatBotTrainer(encoder,decoder,name='chatbot_trainer')\n",
    "model.compile(\n",
    "    loss=tf.keras.losses.SparseCategoricalCrossentropy(),\n",
    "    optimizer=tf.keras.optimizers.Adam(learning_rate=learning_rate),\n",
    "    weighted_metrics=['loss','accuracy']\n",
    ")\n",
    "model(_[:2])"
   ]
  },
  {
   "cell_type": "markdown",
   "id": "dcc9ae23-a737-4d90-b114-bfb10ca49e80",
   "metadata": {},
   "source": [
    "### Train Model"
   ]
  },
  {
   "cell_type": "code",
   "execution_count": 44,
   "id": "dfc88918-bc54-4107-83d2-ab8297a8f603",
   "metadata": {},
   "outputs": [
    {
     "name": "stdout",
     "output_type": "stream",
     "text": [
      "Epoch 1/100\n",
      "23/23 [==============================] - ETA: 0s - loss: 1.6588 - accuracy: 0.2200\n",
      "Epoch 1: val_loss improved from inf to 1.16785, saving model to ckpt\n",
      "WARNING:tensorflow:Model's `__init__()` arguments contain non-serializable objects. Please implement a `get_config()` method in the subclassed Model for proper saving and loading. Defaulting to empty config.\n",
      "WARNING:tensorflow:Model's `__init__()` arguments contain non-serializable objects. Please implement a `get_config()` method in the subclassed Model for proper saving and loading. Defaulting to empty config.\n",
      "INFO:tensorflow:Assets written to: ckpt\\assets\n"
     ]
    },
    {
     "name": "stderr",
     "output_type": "stream",
     "text": [
      "INFO:tensorflow:Assets written to: ckpt\\assets\n"
     ]
    },
    {
     "name": "stdout",
     "output_type": "stream",
     "text": [
      "WARNING:tensorflow:Model's `__init__()` arguments contain non-serializable objects. Please implement a `get_config()` method in the subclassed Model for proper saving and loading. Defaulting to empty config.\n"
     ]
    },
    {
     "name": "stderr",
     "output_type": "stream",
     "text": [
      "WARNING:tensorflow:Model's `__init__()` arguments contain non-serializable objects. Please implement a `get_config()` method in the subclassed Model for proper saving and loading. Defaulting to empty config.\n"
     ]
    },
    {
     "name": "stdout",
     "output_type": "stream",
     "text": [
      "WARNING:tensorflow:Model's `__init__()` arguments contain non-serializable objects. Please implement a `get_config()` method in the subclassed Model for proper saving and loading. Defaulting to empty config.\n"
     ]
    },
    {
     "name": "stderr",
     "output_type": "stream",
     "text": [
      "WARNING:tensorflow:Model's `__init__()` arguments contain non-serializable objects. Please implement a `get_config()` method in the subclassed Model for proper saving and loading. Defaulting to empty config.\n"
     ]
    },
    {
     "name": "stdout",
     "output_type": "stream",
     "text": [
      "23/23 [==============================] - 88s 3s/step - loss: 1.6457 - accuracy: 0.2226 - val_loss: 1.1679 - val_accuracy: 0.3031\n",
      "Epoch 2/100\n",
      "23/23 [==============================] - ETA: 0s - loss: 1.2301 - accuracy: 0.3107\n",
      "Epoch 2: val_loss did not improve from 1.16785\n",
      "23/23 [==============================] - 42s 2s/step - loss: 1.2199 - accuracy: 0.3119 - val_loss: 1.2342 - val_accuracy: 0.3190\n",
      "Epoch 3/100\n",
      "23/23 [==============================] - ETA: 0s - loss: 1.1002 - accuracy: 0.3401\n",
      "Epoch 3: val_loss improved from 1.16785 to 1.06535, saving model to ckpt\n",
      "WARNING:tensorflow:Model's `__init__()` arguments contain non-serializable objects. Please implement a `get_config()` method in the subclassed Model for proper saving and loading. Defaulting to empty config.\n"
     ]
    },
    {
     "name": "stderr",
     "output_type": "stream",
     "text": [
      "WARNING:tensorflow:Model's `__init__()` arguments contain non-serializable objects. Please implement a `get_config()` method in the subclassed Model for proper saving and loading. Defaulting to empty config.\n"
     ]
    },
    {
     "name": "stdout",
     "output_type": "stream",
     "text": [
      "WARNING:tensorflow:Model's `__init__()` arguments contain non-serializable objects. Please implement a `get_config()` method in the subclassed Model for proper saving and loading. Defaulting to empty config.\n"
     ]
    },
    {
     "name": "stderr",
     "output_type": "stream",
     "text": [
      "WARNING:tensorflow:Model's `__init__()` arguments contain non-serializable objects. Please implement a `get_config()` method in the subclassed Model for proper saving and loading. Defaulting to empty config.\n"
     ]
    },
    {
     "name": "stdout",
     "output_type": "stream",
     "text": [
      "INFO:tensorflow:Assets written to: ckpt\\assets\n"
     ]
    },
    {
     "name": "stderr",
     "output_type": "stream",
     "text": [
      "INFO:tensorflow:Assets written to: ckpt\\assets\n"
     ]
    },
    {
     "name": "stdout",
     "output_type": "stream",
     "text": [
      "WARNING:tensorflow:Model's `__init__()` arguments contain non-serializable objects. Please implement a `get_config()` method in the subclassed Model for proper saving and loading. Defaulting to empty config.\n"
     ]
    },
    {
     "name": "stderr",
     "output_type": "stream",
     "text": [
      "WARNING:tensorflow:Model's `__init__()` arguments contain non-serializable objects. Please implement a `get_config()` method in the subclassed Model for proper saving and loading. Defaulting to empty config.\n"
     ]
    },
    {
     "name": "stdout",
     "output_type": "stream",
     "text": [
      "WARNING:tensorflow:Model's `__init__()` arguments contain non-serializable objects. Please implement a `get_config()` method in the subclassed Model for proper saving and loading. Defaulting to empty config.\n"
     ]
    },
    {
     "name": "stderr",
     "output_type": "stream",
     "text": [
      "WARNING:tensorflow:Model's `__init__()` arguments contain non-serializable objects. Please implement a `get_config()` method in the subclassed Model for proper saving and loading. Defaulting to empty config.\n"
     ]
    },
    {
     "name": "stdout",
     "output_type": "stream",
     "text": [
      "23/23 [==============================] - 69s 3s/step - loss: 1.1034 - accuracy: 0.3387 - val_loss: 1.0654 - val_accuracy: 0.3402\n",
      "Epoch 4/100\n",
      "23/23 [==============================] - ETA: 0s - loss: 1.0190 - accuracy: 0.3577\n",
      "Epoch 4: val_loss improved from 1.06535 to 0.94729, saving model to ckpt\n",
      "WARNING:tensorflow:Model's `__init__()` arguments contain non-serializable objects. Please implement a `get_config()` method in the subclassed Model for proper saving and loading. Defaulting to empty config.\n"
     ]
    },
    {
     "name": "stderr",
     "output_type": "stream",
     "text": [
      "WARNING:tensorflow:Model's `__init__()` arguments contain non-serializable objects. Please implement a `get_config()` method in the subclassed Model for proper saving and loading. Defaulting to empty config.\n"
     ]
    },
    {
     "name": "stdout",
     "output_type": "stream",
     "text": [
      "WARNING:tensorflow:Model's `__init__()` arguments contain non-serializable objects. Please implement a `get_config()` method in the subclassed Model for proper saving and loading. Defaulting to empty config.\n"
     ]
    },
    {
     "name": "stderr",
     "output_type": "stream",
     "text": [
      "WARNING:tensorflow:Model's `__init__()` arguments contain non-serializable objects. Please implement a `get_config()` method in the subclassed Model for proper saving and loading. Defaulting to empty config.\n"
     ]
    },
    {
     "name": "stdout",
     "output_type": "stream",
     "text": [
      "INFO:tensorflow:Assets written to: ckpt\\assets\n"
     ]
    },
    {
     "name": "stderr",
     "output_type": "stream",
     "text": [
      "INFO:tensorflow:Assets written to: ckpt\\assets\n"
     ]
    },
    {
     "name": "stdout",
     "output_type": "stream",
     "text": [
      "WARNING:tensorflow:Model's `__init__()` arguments contain non-serializable objects. Please implement a `get_config()` method in the subclassed Model for proper saving and loading. Defaulting to empty config.\n"
     ]
    },
    {
     "name": "stderr",
     "output_type": "stream",
     "text": [
      "WARNING:tensorflow:Model's `__init__()` arguments contain non-serializable objects. Please implement a `get_config()` method in the subclassed Model for proper saving and loading. Defaulting to empty config.\n"
     ]
    },
    {
     "name": "stdout",
     "output_type": "stream",
     "text": [
      "WARNING:tensorflow:Model's `__init__()` arguments contain non-serializable objects. Please implement a `get_config()` method in the subclassed Model for proper saving and loading. Defaulting to empty config.\n"
     ]
    },
    {
     "name": "stderr",
     "output_type": "stream",
     "text": [
      "WARNING:tensorflow:Model's `__init__()` arguments contain non-serializable objects. Please implement a `get_config()` method in the subclassed Model for proper saving and loading. Defaulting to empty config.\n"
     ]
    },
    {
     "name": "stdout",
     "output_type": "stream",
     "text": [
      "23/23 [==============================] - 70s 3s/step - loss: 1.0178 - accuracy: 0.3581 - val_loss: 0.9473 - val_accuracy: 0.3682\n",
      "Epoch 5/100\n",
      "23/23 [==============================] - ETA: 0s - loss: 0.9567 - accuracy: 0.3701\n",
      "Epoch 5: val_loss improved from 0.94729 to 0.89580, saving model to ckpt\n",
      "WARNING:tensorflow:Model's `__init__()` arguments contain non-serializable objects. Please implement a `get_config()` method in the subclassed Model for proper saving and loading. Defaulting to empty config.\n"
     ]
    },
    {
     "name": "stderr",
     "output_type": "stream",
     "text": [
      "WARNING:tensorflow:Model's `__init__()` arguments contain non-serializable objects. Please implement a `get_config()` method in the subclassed Model for proper saving and loading. Defaulting to empty config.\n"
     ]
    },
    {
     "name": "stdout",
     "output_type": "stream",
     "text": [
      "WARNING:tensorflow:Model's `__init__()` arguments contain non-serializable objects. Please implement a `get_config()` method in the subclassed Model for proper saving and loading. Defaulting to empty config.\n"
     ]
    },
    {
     "name": "stderr",
     "output_type": "stream",
     "text": [
      "WARNING:tensorflow:Model's `__init__()` arguments contain non-serializable objects. Please implement a `get_config()` method in the subclassed Model for proper saving and loading. Defaulting to empty config.\n"
     ]
    },
    {
     "name": "stdout",
     "output_type": "stream",
     "text": [
      "INFO:tensorflow:Assets written to: ckpt\\assets\n"
     ]
    },
    {
     "name": "stderr",
     "output_type": "stream",
     "text": [
      "INFO:tensorflow:Assets written to: ckpt\\assets\n"
     ]
    },
    {
     "name": "stdout",
     "output_type": "stream",
     "text": [
      "WARNING:tensorflow:Model's `__init__()` arguments contain non-serializable objects. Please implement a `get_config()` method in the subclassed Model for proper saving and loading. Defaulting to empty config.\n"
     ]
    },
    {
     "name": "stderr",
     "output_type": "stream",
     "text": [
      "WARNING:tensorflow:Model's `__init__()` arguments contain non-serializable objects. Please implement a `get_config()` method in the subclassed Model for proper saving and loading. Defaulting to empty config.\n"
     ]
    },
    {
     "name": "stdout",
     "output_type": "stream",
     "text": [
      "WARNING:tensorflow:Model's `__init__()` arguments contain non-serializable objects. Please implement a `get_config()` method in the subclassed Model for proper saving and loading. Defaulting to empty config.\n"
     ]
    },
    {
     "name": "stderr",
     "output_type": "stream",
     "text": [
      "WARNING:tensorflow:Model's `__init__()` arguments contain non-serializable objects. Please implement a `get_config()` method in the subclassed Model for proper saving and loading. Defaulting to empty config.\n"
     ]
    },
    {
     "name": "stdout",
     "output_type": "stream",
     "text": [
      "23/23 [==============================] - 70s 3s/step - loss: 0.9563 - accuracy: 0.3698 - val_loss: 0.8958 - val_accuracy: 0.4017\n",
      "Epoch 6/100\n",
      "23/23 [==============================] - ETA: 0s - loss: 0.9131 - accuracy: 0.3815\n",
      "Epoch 6: val_loss improved from 0.89580 to 0.86821, saving model to ckpt\n",
      "WARNING:tensorflow:Model's `__init__()` arguments contain non-serializable objects. Please implement a `get_config()` method in the subclassed Model for proper saving and loading. Defaulting to empty config.\n"
     ]
    },
    {
     "name": "stderr",
     "output_type": "stream",
     "text": [
      "WARNING:tensorflow:Model's `__init__()` arguments contain non-serializable objects. Please implement a `get_config()` method in the subclassed Model for proper saving and loading. Defaulting to empty config.\n"
     ]
    },
    {
     "name": "stdout",
     "output_type": "stream",
     "text": [
      "WARNING:tensorflow:Model's `__init__()` arguments contain non-serializable objects. Please implement a `get_config()` method in the subclassed Model for proper saving and loading. Defaulting to empty config.\n"
     ]
    },
    {
     "name": "stderr",
     "output_type": "stream",
     "text": [
      "WARNING:tensorflow:Model's `__init__()` arguments contain non-serializable objects. Please implement a `get_config()` method in the subclassed Model for proper saving and loading. Defaulting to empty config.\n"
     ]
    },
    {
     "name": "stdout",
     "output_type": "stream",
     "text": [
      "INFO:tensorflow:Assets written to: ckpt\\assets\n"
     ]
    },
    {
     "name": "stderr",
     "output_type": "stream",
     "text": [
      "INFO:tensorflow:Assets written to: ckpt\\assets\n"
     ]
    },
    {
     "name": "stdout",
     "output_type": "stream",
     "text": [
      "WARNING:tensorflow:Model's `__init__()` arguments contain non-serializable objects. Please implement a `get_config()` method in the subclassed Model for proper saving and loading. Defaulting to empty config.\n"
     ]
    },
    {
     "name": "stderr",
     "output_type": "stream",
     "text": [
      "WARNING:tensorflow:Model's `__init__()` arguments contain non-serializable objects. Please implement a `get_config()` method in the subclassed Model for proper saving and loading. Defaulting to empty config.\n"
     ]
    },
    {
     "name": "stdout",
     "output_type": "stream",
     "text": [
      "WARNING:tensorflow:Model's `__init__()` arguments contain non-serializable objects. Please implement a `get_config()` method in the subclassed Model for proper saving and loading. Defaulting to empty config.\n"
     ]
    },
    {
     "name": "stderr",
     "output_type": "stream",
     "text": [
      "WARNING:tensorflow:Model's `__init__()` arguments contain non-serializable objects. Please implement a `get_config()` method in the subclassed Model for proper saving and loading. Defaulting to empty config.\n"
     ]
    },
    {
     "name": "stdout",
     "output_type": "stream",
     "text": [
      "23/23 [==============================] - 69s 3s/step - loss: 0.9140 - accuracy: 0.3811 - val_loss: 0.8682 - val_accuracy: 0.4366\n",
      "Epoch 7/100\n",
      "23/23 [==============================] - ETA: 0s - loss: 0.8739 - accuracy: 0.3911\n",
      "Epoch 7: val_loss did not improve from 0.86821\n",
      "23/23 [==============================] - 43s 2s/step - loss: 0.8725 - accuracy: 0.3911 - val_loss: 0.9129 - val_accuracy: 0.4126\n",
      "Epoch 8/100\n",
      "23/23 [==============================] - ETA: 0s - loss: 0.8378 - accuracy: 0.4018\n",
      "Epoch 8: val_loss improved from 0.86821 to 0.79165, saving model to ckpt\n",
      "WARNING:tensorflow:Model's `__init__()` arguments contain non-serializable objects. Please implement a `get_config()` method in the subclassed Model for proper saving and loading. Defaulting to empty config.\n"
     ]
    },
    {
     "name": "stderr",
     "output_type": "stream",
     "text": [
      "WARNING:tensorflow:Model's `__init__()` arguments contain non-serializable objects. Please implement a `get_config()` method in the subclassed Model for proper saving and loading. Defaulting to empty config.\n"
     ]
    },
    {
     "name": "stdout",
     "output_type": "stream",
     "text": [
      "WARNING:tensorflow:Model's `__init__()` arguments contain non-serializable objects. Please implement a `get_config()` method in the subclassed Model for proper saving and loading. Defaulting to empty config.\n"
     ]
    },
    {
     "name": "stderr",
     "output_type": "stream",
     "text": [
      "WARNING:tensorflow:Model's `__init__()` arguments contain non-serializable objects. Please implement a `get_config()` method in the subclassed Model for proper saving and loading. Defaulting to empty config.\n"
     ]
    },
    {
     "name": "stdout",
     "output_type": "stream",
     "text": [
      "INFO:tensorflow:Assets written to: ckpt\\assets\n"
     ]
    },
    {
     "name": "stderr",
     "output_type": "stream",
     "text": [
      "INFO:tensorflow:Assets written to: ckpt\\assets\n"
     ]
    },
    {
     "name": "stdout",
     "output_type": "stream",
     "text": [
      "WARNING:tensorflow:Model's `__init__()` arguments contain non-serializable objects. Please implement a `get_config()` method in the subclassed Model for proper saving and loading. Defaulting to empty config.\n"
     ]
    },
    {
     "name": "stderr",
     "output_type": "stream",
     "text": [
      "WARNING:tensorflow:Model's `__init__()` arguments contain non-serializable objects. Please implement a `get_config()` method in the subclassed Model for proper saving and loading. Defaulting to empty config.\n"
     ]
    },
    {
     "name": "stdout",
     "output_type": "stream",
     "text": [
      "WARNING:tensorflow:Model's `__init__()` arguments contain non-serializable objects. Please implement a `get_config()` method in the subclassed Model for proper saving and loading. Defaulting to empty config.\n"
     ]
    },
    {
     "name": "stderr",
     "output_type": "stream",
     "text": [
      "WARNING:tensorflow:Model's `__init__()` arguments contain non-serializable objects. Please implement a `get_config()` method in the subclassed Model for proper saving and loading. Defaulting to empty config.\n"
     ]
    },
    {
     "name": "stdout",
     "output_type": "stream",
     "text": [
      "23/23 [==============================] - 70s 3s/step - loss: 0.8370 - accuracy: 0.4028 - val_loss: 0.7916 - val_accuracy: 0.4008\n",
      "Epoch 9/100\n",
      "23/23 [==============================] - ETA: 0s - loss: 0.8090 - accuracy: 0.4152\n",
      "Epoch 9: val_loss did not improve from 0.79165\n",
      "23/23 [==============================] - 42s 2s/step - loss: 0.8103 - accuracy: 0.4159 - val_loss: 0.8547 - val_accuracy: 0.4153\n",
      "Epoch 10/100\n",
      "23/23 [==============================] - ETA: 0s - loss: 0.7833 - accuracy: 0.4205\n",
      "Epoch 10: val_loss did not improve from 0.79165\n",
      "23/23 [==============================] - 43s 2s/step - loss: 0.7869 - accuracy: 0.4186 - val_loss: 0.8813 - val_accuracy: 0.4496\n",
      "Epoch 11/100\n",
      "23/23 [==============================] - ETA: 0s - loss: 0.7588 - accuracy: 0.4303\n",
      "Epoch 11: val_loss improved from 0.79165 to 0.68619, saving model to ckpt\n",
      "WARNING:tensorflow:Model's `__init__()` arguments contain non-serializable objects. Please implement a `get_config()` method in the subclassed Model for proper saving and loading. Defaulting to empty config.\n"
     ]
    },
    {
     "name": "stderr",
     "output_type": "stream",
     "text": [
      "WARNING:tensorflow:Model's `__init__()` arguments contain non-serializable objects. Please implement a `get_config()` method in the subclassed Model for proper saving and loading. Defaulting to empty config.\n"
     ]
    },
    {
     "name": "stdout",
     "output_type": "stream",
     "text": [
      "WARNING:tensorflow:Model's `__init__()` arguments contain non-serializable objects. Please implement a `get_config()` method in the subclassed Model for proper saving and loading. Defaulting to empty config.\n"
     ]
    },
    {
     "name": "stderr",
     "output_type": "stream",
     "text": [
      "WARNING:tensorflow:Model's `__init__()` arguments contain non-serializable objects. Please implement a `get_config()` method in the subclassed Model for proper saving and loading. Defaulting to empty config.\n"
     ]
    },
    {
     "name": "stdout",
     "output_type": "stream",
     "text": [
      "INFO:tensorflow:Assets written to: ckpt\\assets\n"
     ]
    },
    {
     "name": "stderr",
     "output_type": "stream",
     "text": [
      "INFO:tensorflow:Assets written to: ckpt\\assets\n"
     ]
    },
    {
     "name": "stdout",
     "output_type": "stream",
     "text": [
      "WARNING:tensorflow:Model's `__init__()` arguments contain non-serializable objects. Please implement a `get_config()` method in the subclassed Model for proper saving and loading. Defaulting to empty config.\n"
     ]
    },
    {
     "name": "stderr",
     "output_type": "stream",
     "text": [
      "WARNING:tensorflow:Model's `__init__()` arguments contain non-serializable objects. Please implement a `get_config()` method in the subclassed Model for proper saving and loading. Defaulting to empty config.\n"
     ]
    },
    {
     "name": "stdout",
     "output_type": "stream",
     "text": [
      "WARNING:tensorflow:Model's `__init__()` arguments contain non-serializable objects. Please implement a `get_config()` method in the subclassed Model for proper saving and loading. Defaulting to empty config.\n"
     ]
    },
    {
     "name": "stderr",
     "output_type": "stream",
     "text": [
      "WARNING:tensorflow:Model's `__init__()` arguments contain non-serializable objects. Please implement a `get_config()` method in the subclassed Model for proper saving and loading. Defaulting to empty config.\n"
     ]
    },
    {
     "name": "stdout",
     "output_type": "stream",
     "text": [
      "23/23 [==============================] - 69s 3s/step - loss: 0.7590 - accuracy: 0.4299 - val_loss: 0.6862 - val_accuracy: 0.4590\n",
      "Epoch 12/100\n",
      "23/23 [==============================] - ETA: 0s - loss: 0.7396 - accuracy: 0.4413\n",
      "Epoch 12: val_loss improved from 0.68619 to 0.68093, saving model to ckpt\n",
      "WARNING:tensorflow:Model's `__init__()` arguments contain non-serializable objects. Please implement a `get_config()` method in the subclassed Model for proper saving and loading. Defaulting to empty config.\n"
     ]
    },
    {
     "name": "stderr",
     "output_type": "stream",
     "text": [
      "WARNING:tensorflow:Model's `__init__()` arguments contain non-serializable objects. Please implement a `get_config()` method in the subclassed Model for proper saving and loading. Defaulting to empty config.\n"
     ]
    },
    {
     "name": "stdout",
     "output_type": "stream",
     "text": [
      "WARNING:tensorflow:Model's `__init__()` arguments contain non-serializable objects. Please implement a `get_config()` method in the subclassed Model for proper saving and loading. Defaulting to empty config.\n"
     ]
    },
    {
     "name": "stderr",
     "output_type": "stream",
     "text": [
      "WARNING:tensorflow:Model's `__init__()` arguments contain non-serializable objects. Please implement a `get_config()` method in the subclassed Model for proper saving and loading. Defaulting to empty config.\n"
     ]
    },
    {
     "name": "stdout",
     "output_type": "stream",
     "text": [
      "INFO:tensorflow:Assets written to: ckpt\\assets\n"
     ]
    },
    {
     "name": "stderr",
     "output_type": "stream",
     "text": [
      "INFO:tensorflow:Assets written to: ckpt\\assets\n"
     ]
    },
    {
     "name": "stdout",
     "output_type": "stream",
     "text": [
      "WARNING:tensorflow:Model's `__init__()` arguments contain non-serializable objects. Please implement a `get_config()` method in the subclassed Model for proper saving and loading. Defaulting to empty config.\n"
     ]
    },
    {
     "name": "stderr",
     "output_type": "stream",
     "text": [
      "WARNING:tensorflow:Model's `__init__()` arguments contain non-serializable objects. Please implement a `get_config()` method in the subclassed Model for proper saving and loading. Defaulting to empty config.\n"
     ]
    },
    {
     "name": "stdout",
     "output_type": "stream",
     "text": [
      "WARNING:tensorflow:Model's `__init__()` arguments contain non-serializable objects. Please implement a `get_config()` method in the subclassed Model for proper saving and loading. Defaulting to empty config.\n"
     ]
    },
    {
     "name": "stderr",
     "output_type": "stream",
     "text": [
      "WARNING:tensorflow:Model's `__init__()` arguments contain non-serializable objects. Please implement a `get_config()` method in the subclassed Model for proper saving and loading. Defaulting to empty config.\n"
     ]
    },
    {
     "name": "stdout",
     "output_type": "stream",
     "text": [
      "23/23 [==============================] - 69s 3s/step - loss: 0.7407 - accuracy: 0.4410 - val_loss: 0.6809 - val_accuracy: 0.4525\n",
      "Epoch 13/100\n",
      "23/23 [==============================] - ETA: 0s - loss: 0.7229 - accuracy: 0.4448\n",
      "Epoch 13: val_loss did not improve from 0.68093\n",
      "23/23 [==============================] - 44s 2s/step - loss: 0.7253 - accuracy: 0.4438 - val_loss: 0.7709 - val_accuracy: 0.4358\n",
      "Epoch 14/100\n",
      "23/23 [==============================] - ETA: 0s - loss: 0.7047 - accuracy: 0.4546\n",
      "Epoch 14: val_loss did not improve from 0.68093\n",
      "23/23 [==============================] - 43s 2s/step - loss: 0.7073 - accuracy: 0.4541 - val_loss: 0.6823 - val_accuracy: 0.4679\n",
      "Epoch 15/100\n",
      "23/23 [==============================] - ETA: 0s - loss: 0.6876 - accuracy: 0.4639\n",
      "Epoch 15: val_loss improved from 0.68093 to 0.63440, saving model to ckpt\n",
      "WARNING:tensorflow:Model's `__init__()` arguments contain non-serializable objects. Please implement a `get_config()` method in the subclassed Model for proper saving and loading. Defaulting to empty config.\n"
     ]
    },
    {
     "name": "stderr",
     "output_type": "stream",
     "text": [
      "WARNING:tensorflow:Model's `__init__()` arguments contain non-serializable objects. Please implement a `get_config()` method in the subclassed Model for proper saving and loading. Defaulting to empty config.\n"
     ]
    },
    {
     "name": "stdout",
     "output_type": "stream",
     "text": [
      "WARNING:tensorflow:Model's `__init__()` arguments contain non-serializable objects. Please implement a `get_config()` method in the subclassed Model for proper saving and loading. Defaulting to empty config.\n"
     ]
    },
    {
     "name": "stderr",
     "output_type": "stream",
     "text": [
      "WARNING:tensorflow:Model's `__init__()` arguments contain non-serializable objects. Please implement a `get_config()` method in the subclassed Model for proper saving and loading. Defaulting to empty config.\n"
     ]
    },
    {
     "name": "stdout",
     "output_type": "stream",
     "text": [
      "INFO:tensorflow:Assets written to: ckpt\\assets\n"
     ]
    },
    {
     "name": "stderr",
     "output_type": "stream",
     "text": [
      "INFO:tensorflow:Assets written to: ckpt\\assets\n"
     ]
    },
    {
     "name": "stdout",
     "output_type": "stream",
     "text": [
      "WARNING:tensorflow:Model's `__init__()` arguments contain non-serializable objects. Please implement a `get_config()` method in the subclassed Model for proper saving and loading. Defaulting to empty config.\n"
     ]
    },
    {
     "name": "stderr",
     "output_type": "stream",
     "text": [
      "WARNING:tensorflow:Model's `__init__()` arguments contain non-serializable objects. Please implement a `get_config()` method in the subclassed Model for proper saving and loading. Defaulting to empty config.\n"
     ]
    },
    {
     "name": "stdout",
     "output_type": "stream",
     "text": [
      "WARNING:tensorflow:Model's `__init__()` arguments contain non-serializable objects. Please implement a `get_config()` method in the subclassed Model for proper saving and loading. Defaulting to empty config.\n"
     ]
    },
    {
     "name": "stderr",
     "output_type": "stream",
     "text": [
      "WARNING:tensorflow:Model's `__init__()` arguments contain non-serializable objects. Please implement a `get_config()` method in the subclassed Model for proper saving and loading. Defaulting to empty config.\n"
     ]
    },
    {
     "name": "stdout",
     "output_type": "stream",
     "text": [
      "23/23 [==============================] - 73s 3s/step - loss: 0.6912 - accuracy: 0.4630 - val_loss: 0.6344 - val_accuracy: 0.4756\n",
      "Epoch 16/100\n",
      "23/23 [==============================] - ETA: 0s - loss: 0.6686 - accuracy: 0.4710\n",
      "Epoch 16: val_loss did not improve from 0.63440\n",
      "23/23 [==============================] - 45s 2s/step - loss: 0.6662 - accuracy: 0.4714 - val_loss: 0.6455 - val_accuracy: 0.4927\n",
      "Epoch 17/100\n",
      "23/23 [==============================] - ETA: 0s - loss: 0.6575 - accuracy: 0.4761\n",
      "Epoch 17: val_loss did not improve from 0.63440\n",
      "23/23 [==============================] - 44s 2s/step - loss: 0.6593 - accuracy: 0.4757 - val_loss: 0.7306 - val_accuracy: 0.4536\n",
      "Epoch 18/100\n",
      "23/23 [==============================] - ETA: 0s - loss: 0.6442 - accuracy: 0.4849\n",
      "Epoch 18: val_loss did not improve from 0.63440\n",
      "23/23 [==============================] - 44s 2s/step - loss: 0.6473 - accuracy: 0.4836 - val_loss: 0.6637 - val_accuracy: 0.4871\n",
      "Epoch 19/100\n",
      "23/23 [==============================] - ETA: 0s - loss: 0.6310 - accuracy: 0.4902\n",
      "Epoch 19: val_loss did not improve from 0.63440\n",
      "23/23 [==============================] - 43s 2s/step - loss: 0.6345 - accuracy: 0.4892 - val_loss: 0.7386 - val_accuracy: 0.4653\n",
      "Epoch 20/100\n",
      "23/23 [==============================] - ETA: 0s - loss: 0.6179 - accuracy: 0.4957\n",
      "Epoch 20: val_loss improved from 0.63440 to 0.61938, saving model to ckpt\n",
      "WARNING:tensorflow:Model's `__init__()` arguments contain non-serializable objects. Please implement a `get_config()` method in the subclassed Model for proper saving and loading. Defaulting to empty config.\n"
     ]
    },
    {
     "name": "stderr",
     "output_type": "stream",
     "text": [
      "WARNING:tensorflow:Model's `__init__()` arguments contain non-serializable objects. Please implement a `get_config()` method in the subclassed Model for proper saving and loading. Defaulting to empty config.\n"
     ]
    },
    {
     "name": "stdout",
     "output_type": "stream",
     "text": [
      "WARNING:tensorflow:Model's `__init__()` arguments contain non-serializable objects. Please implement a `get_config()` method in the subclassed Model for proper saving and loading. Defaulting to empty config.\n"
     ]
    },
    {
     "name": "stderr",
     "output_type": "stream",
     "text": [
      "WARNING:tensorflow:Model's `__init__()` arguments contain non-serializable objects. Please implement a `get_config()` method in the subclassed Model for proper saving and loading. Defaulting to empty config.\n"
     ]
    },
    {
     "name": "stdout",
     "output_type": "stream",
     "text": [
      "INFO:tensorflow:Assets written to: ckpt\\assets\n"
     ]
    },
    {
     "name": "stderr",
     "output_type": "stream",
     "text": [
      "INFO:tensorflow:Assets written to: ckpt\\assets\n"
     ]
    },
    {
     "name": "stdout",
     "output_type": "stream",
     "text": [
      "WARNING:tensorflow:Model's `__init__()` arguments contain non-serializable objects. Please implement a `get_config()` method in the subclassed Model for proper saving and loading. Defaulting to empty config.\n"
     ]
    },
    {
     "name": "stderr",
     "output_type": "stream",
     "text": [
      "WARNING:tensorflow:Model's `__init__()` arguments contain non-serializable objects. Please implement a `get_config()` method in the subclassed Model for proper saving and loading. Defaulting to empty config.\n"
     ]
    },
    {
     "name": "stdout",
     "output_type": "stream",
     "text": [
      "WARNING:tensorflow:Model's `__init__()` arguments contain non-serializable objects. Please implement a `get_config()` method in the subclassed Model for proper saving and loading. Defaulting to empty config.\n"
     ]
    },
    {
     "name": "stderr",
     "output_type": "stream",
     "text": [
      "WARNING:tensorflow:Model's `__init__()` arguments contain non-serializable objects. Please implement a `get_config()` method in the subclassed Model for proper saving and loading. Defaulting to empty config.\n"
     ]
    },
    {
     "name": "stdout",
     "output_type": "stream",
     "text": [
      "23/23 [==============================] - 71s 3s/step - loss: 0.6171 - accuracy: 0.4971 - val_loss: 0.6194 - val_accuracy: 0.5014\n",
      "Epoch 21/100\n",
      "23/23 [==============================] - ETA: 0s - loss: 0.6097 - accuracy: 0.5046\n",
      "Epoch 21: val_loss did not improve from 0.61938\n",
      "23/23 [==============================] - 45s 2s/step - loss: 0.6110 - accuracy: 0.5050 - val_loss: 0.7440 - val_accuracy: 0.4845\n",
      "Epoch 22/100\n",
      "23/23 [==============================] - ETA: 0s - loss: 0.5994 - accuracy: 0.5053\n",
      "Epoch 22: val_loss improved from 0.61938 to 0.55456, saving model to ckpt\n",
      "WARNING:tensorflow:Model's `__init__()` arguments contain non-serializable objects. Please implement a `get_config()` method in the subclassed Model for proper saving and loading. Defaulting to empty config.\n"
     ]
    },
    {
     "name": "stderr",
     "output_type": "stream",
     "text": [
      "WARNING:tensorflow:Model's `__init__()` arguments contain non-serializable objects. Please implement a `get_config()` method in the subclassed Model for proper saving and loading. Defaulting to empty config.\n"
     ]
    },
    {
     "name": "stdout",
     "output_type": "stream",
     "text": [
      "WARNING:tensorflow:Model's `__init__()` arguments contain non-serializable objects. Please implement a `get_config()` method in the subclassed Model for proper saving and loading. Defaulting to empty config.\n"
     ]
    },
    {
     "name": "stderr",
     "output_type": "stream",
     "text": [
      "WARNING:tensorflow:Model's `__init__()` arguments contain non-serializable objects. Please implement a `get_config()` method in the subclassed Model for proper saving and loading. Defaulting to empty config.\n"
     ]
    },
    {
     "name": "stdout",
     "output_type": "stream",
     "text": [
      "INFO:tensorflow:Assets written to: ckpt\\assets\n"
     ]
    },
    {
     "name": "stderr",
     "output_type": "stream",
     "text": [
      "INFO:tensorflow:Assets written to: ckpt\\assets\n"
     ]
    },
    {
     "name": "stdout",
     "output_type": "stream",
     "text": [
      "WARNING:tensorflow:Model's `__init__()` arguments contain non-serializable objects. Please implement a `get_config()` method in the subclassed Model for proper saving and loading. Defaulting to empty config.\n"
     ]
    },
    {
     "name": "stderr",
     "output_type": "stream",
     "text": [
      "WARNING:tensorflow:Model's `__init__()` arguments contain non-serializable objects. Please implement a `get_config()` method in the subclassed Model for proper saving and loading. Defaulting to empty config.\n"
     ]
    },
    {
     "name": "stdout",
     "output_type": "stream",
     "text": [
      "WARNING:tensorflow:Model's `__init__()` arguments contain non-serializable objects. Please implement a `get_config()` method in the subclassed Model for proper saving and loading. Defaulting to empty config.\n"
     ]
    },
    {
     "name": "stderr",
     "output_type": "stream",
     "text": [
      "WARNING:tensorflow:Model's `__init__()` arguments contain non-serializable objects. Please implement a `get_config()` method in the subclassed Model for proper saving and loading. Defaulting to empty config.\n"
     ]
    },
    {
     "name": "stdout",
     "output_type": "stream",
     "text": [
      "23/23 [==============================] - 74s 3s/step - loss: 0.6004 - accuracy: 0.5049 - val_loss: 0.5546 - val_accuracy: 0.5373\n",
      "Epoch 23/100\n",
      "23/23 [==============================] - ETA: 0s - loss: 0.5912 - accuracy: 0.5120\n",
      "Epoch 23: val_loss did not improve from 0.55456\n",
      "23/23 [==============================] - 49s 2s/step - loss: 0.5936 - accuracy: 0.5109 - val_loss: 0.6407 - val_accuracy: 0.5250\n",
      "Epoch 24/100\n",
      "23/23 [==============================] - ETA: 0s - loss: 0.5797 - accuracy: 0.5192\n",
      "Epoch 24: val_loss did not improve from 0.55456\n",
      "23/23 [==============================] - 48s 2s/step - loss: 0.5817 - accuracy: 0.5179 - val_loss: 0.5769 - val_accuracy: 0.5047\n",
      "Epoch 25/100\n",
      "23/23 [==============================] - ETA: 0s - loss: 0.5739 - accuracy: 0.5222\n",
      "Epoch 25: val_loss did not improve from 0.55456\n",
      "23/23 [==============================] - 53s 2s/step - loss: 0.5766 - accuracy: 0.5210 - val_loss: 0.7063 - val_accuracy: 0.5000\n",
      "Epoch 26/100\n",
      "23/23 [==============================] - ETA: 0s - loss: 0.5644 - accuracy: 0.5266\n",
      "Epoch 26: val_loss improved from 0.55456 to 0.51040, saving model to ckpt\n",
      "WARNING:tensorflow:Model's `__init__()` arguments contain non-serializable objects. Please implement a `get_config()` method in the subclassed Model for proper saving and loading. Defaulting to empty config.\n"
     ]
    },
    {
     "name": "stderr",
     "output_type": "stream",
     "text": [
      "WARNING:tensorflow:Model's `__init__()` arguments contain non-serializable objects. Please implement a `get_config()` method in the subclassed Model for proper saving and loading. Defaulting to empty config.\n"
     ]
    },
    {
     "name": "stdout",
     "output_type": "stream",
     "text": [
      "WARNING:tensorflow:Model's `__init__()` arguments contain non-serializable objects. Please implement a `get_config()` method in the subclassed Model for proper saving and loading. Defaulting to empty config.\n"
     ]
    },
    {
     "name": "stderr",
     "output_type": "stream",
     "text": [
      "WARNING:tensorflow:Model's `__init__()` arguments contain non-serializable objects. Please implement a `get_config()` method in the subclassed Model for proper saving and loading. Defaulting to empty config.\n"
     ]
    },
    {
     "name": "stdout",
     "output_type": "stream",
     "text": [
      "INFO:tensorflow:Assets written to: ckpt\\assets\n"
     ]
    },
    {
     "name": "stderr",
     "output_type": "stream",
     "text": [
      "INFO:tensorflow:Assets written to: ckpt\\assets\n"
     ]
    },
    {
     "name": "stdout",
     "output_type": "stream",
     "text": [
      "WARNING:tensorflow:Model's `__init__()` arguments contain non-serializable objects. Please implement a `get_config()` method in the subclassed Model for proper saving and loading. Defaulting to empty config.\n"
     ]
    },
    {
     "name": "stderr",
     "output_type": "stream",
     "text": [
      "WARNING:tensorflow:Model's `__init__()` arguments contain non-serializable objects. Please implement a `get_config()` method in the subclassed Model for proper saving and loading. Defaulting to empty config.\n"
     ]
    },
    {
     "name": "stdout",
     "output_type": "stream",
     "text": [
      "WARNING:tensorflow:Model's `__init__()` arguments contain non-serializable objects. Please implement a `get_config()` method in the subclassed Model for proper saving and loading. Defaulting to empty config.\n"
     ]
    },
    {
     "name": "stderr",
     "output_type": "stream",
     "text": [
      "WARNING:tensorflow:Model's `__init__()` arguments contain non-serializable objects. Please implement a `get_config()` method in the subclassed Model for proper saving and loading. Defaulting to empty config.\n"
     ]
    },
    {
     "name": "stdout",
     "output_type": "stream",
     "text": [
      "23/23 [==============================] - 90s 4s/step - loss: 0.5655 - accuracy: 0.5256 - val_loss: 0.5104 - val_accuracy: 0.5527\n",
      "Epoch 27/100\n",
      "23/23 [==============================] - ETA: 0s - loss: 0.5516 - accuracy: 0.5339\n",
      "Epoch 27: val_loss did not improve from 0.51040\n",
      "23/23 [==============================] - 42s 2s/step - loss: 0.5508 - accuracy: 0.5336 - val_loss: 0.5746 - val_accuracy: 0.5380\n",
      "Epoch 28/100\n",
      "23/23 [==============================] - ETA: 0s - loss: 0.5460 - accuracy: 0.5395\n",
      "Epoch 28: val_loss did not improve from 0.51040\n",
      "23/23 [==============================] - 41s 2s/step - loss: 0.5477 - accuracy: 0.5382 - val_loss: 0.5817 - val_accuracy: 0.5447\n",
      "Epoch 29/100\n",
      "23/23 [==============================] - ETA: 0s - loss: 0.5418 - accuracy: 0.5396\n",
      "Epoch 29: val_loss did not improve from 0.51040\n",
      "23/23 [==============================] - 42s 2s/step - loss: 0.5426 - accuracy: 0.5386 - val_loss: 0.5462 - val_accuracy: 0.5500\n",
      "Epoch 30/100\n",
      "23/23 [==============================] - ETA: 0s - loss: 0.5316 - accuracy: 0.5452\n",
      "Epoch 30: val_loss did not improve from 0.51040\n",
      "23/23 [==============================] - 45s 2s/step - loss: 0.5348 - accuracy: 0.5436 - val_loss: 0.5640 - val_accuracy: 0.5198\n",
      "Epoch 31/100\n",
      "23/23 [==============================] - ETA: 0s - loss: 0.5280 - accuracy: 0.5489\n",
      "Epoch 31: val_loss did not improve from 0.51040\n",
      "23/23 [==============================] - 45s 2s/step - loss: 0.5295 - accuracy: 0.5490 - val_loss: 0.5636 - val_accuracy: 0.5387\n",
      "Epoch 32/100\n",
      "23/23 [==============================] - ETA: 0s - loss: 0.5225 - accuracy: 0.5502\n",
      "Epoch 32: val_loss did not improve from 0.51040\n",
      "23/23 [==============================] - 42s 2s/step - loss: 0.5258 - accuracy: 0.5490 - val_loss: 0.5879 - val_accuracy: 0.5624\n",
      "Epoch 33/100\n",
      "23/23 [==============================] - ETA: 0s - loss: 0.5145 - accuracy: 0.5557\n",
      "Epoch 33: val_loss improved from 0.51040 to 0.48821, saving model to ckpt\n",
      "WARNING:tensorflow:Model's `__init__()` arguments contain non-serializable objects. Please implement a `get_config()` method in the subclassed Model for proper saving and loading. Defaulting to empty config.\n"
     ]
    },
    {
     "name": "stderr",
     "output_type": "stream",
     "text": [
      "WARNING:tensorflow:Model's `__init__()` arguments contain non-serializable objects. Please implement a `get_config()` method in the subclassed Model for proper saving and loading. Defaulting to empty config.\n"
     ]
    },
    {
     "name": "stdout",
     "output_type": "stream",
     "text": [
      "WARNING:tensorflow:Model's `__init__()` arguments contain non-serializable objects. Please implement a `get_config()` method in the subclassed Model for proper saving and loading. Defaulting to empty config.\n"
     ]
    },
    {
     "name": "stderr",
     "output_type": "stream",
     "text": [
      "WARNING:tensorflow:Model's `__init__()` arguments contain non-serializable objects. Please implement a `get_config()` method in the subclassed Model for proper saving and loading. Defaulting to empty config.\n"
     ]
    },
    {
     "name": "stdout",
     "output_type": "stream",
     "text": [
      "INFO:tensorflow:Assets written to: ckpt\\assets\n"
     ]
    },
    {
     "name": "stderr",
     "output_type": "stream",
     "text": [
      "INFO:tensorflow:Assets written to: ckpt\\assets\n"
     ]
    },
    {
     "name": "stdout",
     "output_type": "stream",
     "text": [
      "WARNING:tensorflow:Model's `__init__()` arguments contain non-serializable objects. Please implement a `get_config()` method in the subclassed Model for proper saving and loading. Defaulting to empty config.\n"
     ]
    },
    {
     "name": "stderr",
     "output_type": "stream",
     "text": [
      "WARNING:tensorflow:Model's `__init__()` arguments contain non-serializable objects. Please implement a `get_config()` method in the subclassed Model for proper saving and loading. Defaulting to empty config.\n"
     ]
    },
    {
     "name": "stdout",
     "output_type": "stream",
     "text": [
      "WARNING:tensorflow:Model's `__init__()` arguments contain non-serializable objects. Please implement a `get_config()` method in the subclassed Model for proper saving and loading. Defaulting to empty config.\n"
     ]
    },
    {
     "name": "stderr",
     "output_type": "stream",
     "text": [
      "WARNING:tensorflow:Model's `__init__()` arguments contain non-serializable objects. Please implement a `get_config()` method in the subclassed Model for proper saving and loading. Defaulting to empty config.\n"
     ]
    },
    {
     "name": "stdout",
     "output_type": "stream",
     "text": [
      "23/23 [==============================] - 72s 3s/step - loss: 0.5167 - accuracy: 0.5547 - val_loss: 0.4882 - val_accuracy: 0.5994\n",
      "Epoch 34/100\n",
      "23/23 [==============================] - ETA: 0s - loss: 0.5112 - accuracy: 0.5570\n",
      "Epoch 34: val_loss did not improve from 0.48821\n",
      "23/23 [==============================] - 44s 2s/step - loss: 0.5125 - accuracy: 0.5555 - val_loss: 0.5131 - val_accuracy: 0.5716\n",
      "Epoch 35/100\n",
      "23/23 [==============================] - ETA: 0s - loss: 0.5032 - accuracy: 0.5610\n",
      "Epoch 35: val_loss did not improve from 0.48821\n",
      "23/23 [==============================] - 42s 2s/step - loss: 0.5043 - accuracy: 0.5615 - val_loss: 0.5876 - val_accuracy: 0.5322\n",
      "Epoch 36/100\n",
      "23/23 [==============================] - ETA: 0s - loss: 0.4974 - accuracy: 0.5670\n",
      "Epoch 36: val_loss did not improve from 0.48821\n",
      "23/23 [==============================] - 39s 2s/step - loss: 0.4976 - accuracy: 0.5669 - val_loss: 0.5174 - val_accuracy: 0.5693\n",
      "Epoch 37/100\n",
      "23/23 [==============================] - ETA: 0s - loss: 0.4940 - accuracy: 0.5685\n",
      "Epoch 37: val_loss did not improve from 0.48821\n",
      "23/23 [==============================] - 41s 2s/step - loss: 0.4918 - accuracy: 0.5688 - val_loss: 0.6134 - val_accuracy: 0.5429\n",
      "Epoch 38/100\n",
      "23/23 [==============================] - ETA: 0s - loss: 0.4870 - accuracy: 0.5740\n",
      "Epoch 38: val_loss did not improve from 0.48821\n",
      "23/23 [==============================] - 40s 2s/step - loss: 0.4876 - accuracy: 0.5730 - val_loss: 0.5169 - val_accuracy: 0.5572\n",
      "Epoch 39/100\n",
      "23/23 [==============================] - ETA: 0s - loss: 0.4805 - accuracy: 0.5771\n",
      "Epoch 39: val_loss did not improve from 0.48821\n",
      "23/23 [==============================] - 39s 2s/step - loss: 0.4792 - accuracy: 0.5762 - val_loss: 0.5475 - val_accuracy: 0.5882\n",
      "Epoch 40/100\n",
      "23/23 [==============================] - ETA: 0s - loss: 0.4772 - accuracy: 0.5798\n",
      "Epoch 40: val_loss did not improve from 0.48821\n",
      "23/23 [==============================] - 40s 2s/step - loss: 0.4771 - accuracy: 0.5801 - val_loss: 0.5158 - val_accuracy: 0.6079\n",
      "Epoch 41/100\n",
      "23/23 [==============================] - ETA: 0s - loss: 0.4738 - accuracy: 0.5837\n",
      "Epoch 41: val_loss did not improve from 0.48821\n",
      "23/23 [==============================] - 39s 2s/step - loss: 0.4747 - accuracy: 0.5838 - val_loss: 0.6450 - val_accuracy: 0.5534\n",
      "Epoch 42/100\n",
      "23/23 [==============================] - ETA: 0s - loss: 0.4671 - accuracy: 0.5859\n",
      "Epoch 42: val_loss did not improve from 0.48821\n",
      "23/23 [==============================] - 40s 2s/step - loss: 0.4672 - accuracy: 0.5855 - val_loss: 0.6339 - val_accuracy: 0.5310\n",
      "Epoch 43/100\n",
      "23/23 [==============================] - ETA: 0s - loss: 0.4669 - accuracy: 0.5878\n",
      "Epoch 43: val_loss did not improve from 0.48821\n",
      "23/23 [==============================] - 40s 2s/step - loss: 0.4687 - accuracy: 0.5870 - val_loss: 0.5365 - val_accuracy: 0.5725\n",
      "Epoch 44/100\n",
      "23/23 [==============================] - ETA: 0s - loss: 0.4605 - accuracy: 0.5913\n",
      "Epoch 44: val_loss did not improve from 0.48821\n",
      "23/23 [==============================] - 40s 2s/step - loss: 0.4610 - accuracy: 0.5911 - val_loss: 0.5807 - val_accuracy: 0.5626\n",
      "Epoch 45/100\n",
      "23/23 [==============================] - ETA: 0s - loss: 0.4554 - accuracy: 0.5932\n",
      "Epoch 45: val_loss did not improve from 0.48821\n",
      "23/23 [==============================] - 40s 2s/step - loss: 0.4535 - accuracy: 0.5938 - val_loss: 0.5307 - val_accuracy: 0.5803\n",
      "Epoch 46/100\n",
      "23/23 [==============================] - ETA: 0s - loss: 0.4550 - accuracy: 0.5927\n",
      "Epoch 46: val_loss did not improve from 0.48821\n",
      "23/23 [==============================] - 40s 2s/step - loss: 0.4558 - accuracy: 0.5920 - val_loss: 0.4969 - val_accuracy: 0.5831\n",
      "Epoch 47/100\n",
      "23/23 [==============================] - ETA: 0s - loss: 0.4470 - accuracy: 0.5981\n",
      "Epoch 47: val_loss did not improve from 0.48821\n",
      "23/23 [==============================] - 40s 2s/step - loss: 0.4480 - accuracy: 0.5983 - val_loss: 0.5779 - val_accuracy: 0.5669\n",
      "Epoch 48/100\n",
      "23/23 [==============================] - ETA: 0s - loss: 0.4455 - accuracy: 0.5995\n",
      "Epoch 48: val_loss did not improve from 0.48821\n",
      "23/23 [==============================] - 39s 2s/step - loss: 0.4456 - accuracy: 0.5989 - val_loss: 0.6365 - val_accuracy: 0.5707\n",
      "Epoch 49/100\n",
      "23/23 [==============================] - ETA: 0s - loss: 0.4443 - accuracy: 0.6023\n",
      "Epoch 49: val_loss did not improve from 0.48821\n",
      "23/23 [==============================] - 40s 2s/step - loss: 0.4459 - accuracy: 0.6016 - val_loss: 0.5333 - val_accuracy: 0.5520\n",
      "Epoch 50/100\n",
      "23/23 [==============================] - ETA: 0s - loss: 0.4409 - accuracy: 0.6049\n",
      "Epoch 50: val_loss did not improve from 0.48821\n",
      "23/23 [==============================] - 40s 2s/step - loss: 0.4429 - accuracy: 0.6050 - val_loss: 0.5125 - val_accuracy: 0.6172\n",
      "Epoch 51/100\n",
      "23/23 [==============================] - ETA: 0s - loss: 0.4346 - accuracy: 0.6082\n",
      "Epoch 51: val_loss improved from 0.48821 to 0.47768, saving model to ckpt\n",
      "WARNING:tensorflow:Model's `__init__()` arguments contain non-serializable objects. Please implement a `get_config()` method in the subclassed Model for proper saving and loading. Defaulting to empty config.\n"
     ]
    },
    {
     "name": "stderr",
     "output_type": "stream",
     "text": [
      "WARNING:tensorflow:Model's `__init__()` arguments contain non-serializable objects. Please implement a `get_config()` method in the subclassed Model for proper saving and loading. Defaulting to empty config.\n"
     ]
    },
    {
     "name": "stdout",
     "output_type": "stream",
     "text": [
      "WARNING:tensorflow:Model's `__init__()` arguments contain non-serializable objects. Please implement a `get_config()` method in the subclassed Model for proper saving and loading. Defaulting to empty config.\n"
     ]
    },
    {
     "name": "stderr",
     "output_type": "stream",
     "text": [
      "WARNING:tensorflow:Model's `__init__()` arguments contain non-serializable objects. Please implement a `get_config()` method in the subclassed Model for proper saving and loading. Defaulting to empty config.\n"
     ]
    },
    {
     "name": "stdout",
     "output_type": "stream",
     "text": [
      "INFO:tensorflow:Assets written to: ckpt\\assets\n"
     ]
    },
    {
     "name": "stderr",
     "output_type": "stream",
     "text": [
      "INFO:tensorflow:Assets written to: ckpt\\assets\n"
     ]
    },
    {
     "name": "stdout",
     "output_type": "stream",
     "text": [
      "WARNING:tensorflow:Model's `__init__()` arguments contain non-serializable objects. Please implement a `get_config()` method in the subclassed Model for proper saving and loading. Defaulting to empty config.\n"
     ]
    },
    {
     "name": "stderr",
     "output_type": "stream",
     "text": [
      "WARNING:tensorflow:Model's `__init__()` arguments contain non-serializable objects. Please implement a `get_config()` method in the subclassed Model for proper saving and loading. Defaulting to empty config.\n"
     ]
    },
    {
     "name": "stdout",
     "output_type": "stream",
     "text": [
      "WARNING:tensorflow:Model's `__init__()` arguments contain non-serializable objects. Please implement a `get_config()` method in the subclassed Model for proper saving and loading. Defaulting to empty config.\n"
     ]
    },
    {
     "name": "stderr",
     "output_type": "stream",
     "text": [
      "WARNING:tensorflow:Model's `__init__()` arguments contain non-serializable objects. Please implement a `get_config()` method in the subclassed Model for proper saving and loading. Defaulting to empty config.\n"
     ]
    },
    {
     "name": "stdout",
     "output_type": "stream",
     "text": [
      "23/23 [==============================] - 65s 3s/step - loss: 0.4339 - accuracy: 0.6076 - val_loss: 0.4777 - val_accuracy: 0.6267\n",
      "Epoch 52/100\n",
      "23/23 [==============================] - ETA: 0s - loss: 0.4323 - accuracy: 0.6105\n",
      "Epoch 52: val_loss improved from 0.47768 to 0.46490, saving model to ckpt\n",
      "WARNING:tensorflow:Model's `__init__()` arguments contain non-serializable objects. Please implement a `get_config()` method in the subclassed Model for proper saving and loading. Defaulting to empty config.\n"
     ]
    },
    {
     "name": "stderr",
     "output_type": "stream",
     "text": [
      "WARNING:tensorflow:Model's `__init__()` arguments contain non-serializable objects. Please implement a `get_config()` method in the subclassed Model for proper saving and loading. Defaulting to empty config.\n"
     ]
    },
    {
     "name": "stdout",
     "output_type": "stream",
     "text": [
      "WARNING:tensorflow:Model's `__init__()` arguments contain non-serializable objects. Please implement a `get_config()` method in the subclassed Model for proper saving and loading. Defaulting to empty config.\n"
     ]
    },
    {
     "name": "stderr",
     "output_type": "stream",
     "text": [
      "WARNING:tensorflow:Model's `__init__()` arguments contain non-serializable objects. Please implement a `get_config()` method in the subclassed Model for proper saving and loading. Defaulting to empty config.\n"
     ]
    },
    {
     "name": "stdout",
     "output_type": "stream",
     "text": [
      "INFO:tensorflow:Assets written to: ckpt\\assets\n"
     ]
    },
    {
     "name": "stderr",
     "output_type": "stream",
     "text": [
      "INFO:tensorflow:Assets written to: ckpt\\assets\n"
     ]
    },
    {
     "name": "stdout",
     "output_type": "stream",
     "text": [
      "WARNING:tensorflow:Model's `__init__()` arguments contain non-serializable objects. Please implement a `get_config()` method in the subclassed Model for proper saving and loading. Defaulting to empty config.\n"
     ]
    },
    {
     "name": "stderr",
     "output_type": "stream",
     "text": [
      "WARNING:tensorflow:Model's `__init__()` arguments contain non-serializable objects. Please implement a `get_config()` method in the subclassed Model for proper saving and loading. Defaulting to empty config.\n"
     ]
    },
    {
     "name": "stdout",
     "output_type": "stream",
     "text": [
      "WARNING:tensorflow:Model's `__init__()` arguments contain non-serializable objects. Please implement a `get_config()` method in the subclassed Model for proper saving and loading. Defaulting to empty config.\n"
     ]
    },
    {
     "name": "stderr",
     "output_type": "stream",
     "text": [
      "WARNING:tensorflow:Model's `__init__()` arguments contain non-serializable objects. Please implement a `get_config()` method in the subclassed Model for proper saving and loading. Defaulting to empty config.\n"
     ]
    },
    {
     "name": "stdout",
     "output_type": "stream",
     "text": [
      "23/23 [==============================] - 67s 3s/step - loss: 0.4335 - accuracy: 0.6102 - val_loss: 0.4649 - val_accuracy: 0.6069\n",
      "Epoch 53/100\n",
      "23/23 [==============================] - ETA: 0s - loss: 0.4285 - accuracy: 0.6116\n",
      "Epoch 53: val_loss did not improve from 0.46490\n",
      "23/23 [==============================] - 41s 2s/step - loss: 0.4281 - accuracy: 0.6119 - val_loss: 0.5727 - val_accuracy: 0.5613\n",
      "Epoch 54/100\n",
      "23/23 [==============================] - ETA: 0s - loss: 0.4235 - accuracy: 0.6149\n",
      "Epoch 54: val_loss did not improve from 0.46490\n",
      "23/23 [==============================] - 42s 2s/step - loss: 0.4230 - accuracy: 0.6158 - val_loss: 0.4945 - val_accuracy: 0.6142\n",
      "Epoch 55/100\n",
      "23/23 [==============================] - ETA: 0s - loss: 0.4221 - accuracy: 0.6170\n",
      "Epoch 55: val_loss did not improve from 0.46490\n",
      "23/23 [==============================] - 45s 2s/step - loss: 0.4232 - accuracy: 0.6156 - val_loss: 0.5292 - val_accuracy: 0.6089\n",
      "Epoch 56/100\n",
      "23/23 [==============================] - ETA: 0s - loss: 0.4180 - accuracy: 0.6185\n",
      "Epoch 56: val_loss did not improve from 0.46490\n",
      "23/23 [==============================] - 45s 2s/step - loss: 0.4192 - accuracy: 0.6183 - val_loss: 0.4864 - val_accuracy: 0.6081\n",
      "Epoch 57/100\n",
      "23/23 [==============================] - ETA: 0s - loss: 0.4152 - accuracy: 0.6212\n",
      "Epoch 57: val_loss did not improve from 0.46490\n",
      "23/23 [==============================] - 42s 2s/step - loss: 0.4149 - accuracy: 0.6210 - val_loss: 0.5029 - val_accuracy: 0.6481\n",
      "Epoch 58/100\n",
      "23/23 [==============================] - ETA: 0s - loss: 0.4123 - accuracy: 0.6238\n",
      "Epoch 58: val_loss improved from 0.46490 to 0.42510, saving model to ckpt\n",
      "WARNING:tensorflow:Model's `__init__()` arguments contain non-serializable objects. Please implement a `get_config()` method in the subclassed Model for proper saving and loading. Defaulting to empty config.\n"
     ]
    },
    {
     "name": "stderr",
     "output_type": "stream",
     "text": [
      "WARNING:tensorflow:Model's `__init__()` arguments contain non-serializable objects. Please implement a `get_config()` method in the subclassed Model for proper saving and loading. Defaulting to empty config.\n"
     ]
    },
    {
     "name": "stdout",
     "output_type": "stream",
     "text": [
      "WARNING:tensorflow:Model's `__init__()` arguments contain non-serializable objects. Please implement a `get_config()` method in the subclassed Model for proper saving and loading. Defaulting to empty config.\n"
     ]
    },
    {
     "name": "stderr",
     "output_type": "stream",
     "text": [
      "WARNING:tensorflow:Model's `__init__()` arguments contain non-serializable objects. Please implement a `get_config()` method in the subclassed Model for proper saving and loading. Defaulting to empty config.\n"
     ]
    },
    {
     "name": "stdout",
     "output_type": "stream",
     "text": [
      "INFO:tensorflow:Assets written to: ckpt\\assets\n"
     ]
    },
    {
     "name": "stderr",
     "output_type": "stream",
     "text": [
      "INFO:tensorflow:Assets written to: ckpt\\assets\n"
     ]
    },
    {
     "name": "stdout",
     "output_type": "stream",
     "text": [
      "WARNING:tensorflow:Model's `__init__()` arguments contain non-serializable objects. Please implement a `get_config()` method in the subclassed Model for proper saving and loading. Defaulting to empty config.\n"
     ]
    },
    {
     "name": "stderr",
     "output_type": "stream",
     "text": [
      "WARNING:tensorflow:Model's `__init__()` arguments contain non-serializable objects. Please implement a `get_config()` method in the subclassed Model for proper saving and loading. Defaulting to empty config.\n"
     ]
    },
    {
     "name": "stdout",
     "output_type": "stream",
     "text": [
      "WARNING:tensorflow:Model's `__init__()` arguments contain non-serializable objects. Please implement a `get_config()` method in the subclassed Model for proper saving and loading. Defaulting to empty config.\n"
     ]
    },
    {
     "name": "stderr",
     "output_type": "stream",
     "text": [
      "WARNING:tensorflow:Model's `__init__()` arguments contain non-serializable objects. Please implement a `get_config()` method in the subclassed Model for proper saving and loading. Defaulting to empty config.\n"
     ]
    },
    {
     "name": "stdout",
     "output_type": "stream",
     "text": [
      "23/23 [==============================] - 68s 3s/step - loss: 0.4121 - accuracy: 0.6225 - val_loss: 0.4251 - val_accuracy: 0.6467\n",
      "Epoch 59/100\n",
      "23/23 [==============================] - ETA: 0s - loss: 0.4123 - accuracy: 0.6207\n",
      "Epoch 59: val_loss did not improve from 0.42510\n",
      "23/23 [==============================] - 43s 2s/step - loss: 0.4143 - accuracy: 0.6188 - val_loss: 0.4764 - val_accuracy: 0.6245\n",
      "Epoch 60/100\n",
      "23/23 [==============================] - ETA: 0s - loss: 0.4088 - accuracy: 0.6249\n",
      "Epoch 60: val_loss improved from 0.42510 to 0.40692, saving model to ckpt\n",
      "WARNING:tensorflow:Model's `__init__()` arguments contain non-serializable objects. Please implement a `get_config()` method in the subclassed Model for proper saving and loading. Defaulting to empty config.\n"
     ]
    },
    {
     "name": "stderr",
     "output_type": "stream",
     "text": [
      "WARNING:tensorflow:Model's `__init__()` arguments contain non-serializable objects. Please implement a `get_config()` method in the subclassed Model for proper saving and loading. Defaulting to empty config.\n"
     ]
    },
    {
     "name": "stdout",
     "output_type": "stream",
     "text": [
      "WARNING:tensorflow:Model's `__init__()` arguments contain non-serializable objects. Please implement a `get_config()` method in the subclassed Model for proper saving and loading. Defaulting to empty config.\n"
     ]
    },
    {
     "name": "stderr",
     "output_type": "stream",
     "text": [
      "WARNING:tensorflow:Model's `__init__()` arguments contain non-serializable objects. Please implement a `get_config()` method in the subclassed Model for proper saving and loading. Defaulting to empty config.\n"
     ]
    },
    {
     "name": "stdout",
     "output_type": "stream",
     "text": [
      "INFO:tensorflow:Assets written to: ckpt\\assets\n"
     ]
    },
    {
     "name": "stderr",
     "output_type": "stream",
     "text": [
      "INFO:tensorflow:Assets written to: ckpt\\assets\n"
     ]
    },
    {
     "name": "stdout",
     "output_type": "stream",
     "text": [
      "WARNING:tensorflow:Model's `__init__()` arguments contain non-serializable objects. Please implement a `get_config()` method in the subclassed Model for proper saving and loading. Defaulting to empty config.\n"
     ]
    },
    {
     "name": "stderr",
     "output_type": "stream",
     "text": [
      "WARNING:tensorflow:Model's `__init__()` arguments contain non-serializable objects. Please implement a `get_config()` method in the subclassed Model for proper saving and loading. Defaulting to empty config.\n"
     ]
    },
    {
     "name": "stdout",
     "output_type": "stream",
     "text": [
      "WARNING:tensorflow:Model's `__init__()` arguments contain non-serializable objects. Please implement a `get_config()` method in the subclassed Model for proper saving and loading. Defaulting to empty config.\n"
     ]
    },
    {
     "name": "stderr",
     "output_type": "stream",
     "text": [
      "WARNING:tensorflow:Model's `__init__()` arguments contain non-serializable objects. Please implement a `get_config()` method in the subclassed Model for proper saving and loading. Defaulting to empty config.\n"
     ]
    },
    {
     "name": "stdout",
     "output_type": "stream",
     "text": [
      "23/23 [==============================] - 71s 3s/step - loss: 0.4076 - accuracy: 0.6252 - val_loss: 0.4069 - val_accuracy: 0.6429\n",
      "Epoch 61/100\n",
      "23/23 [==============================] - ETA: 0s - loss: 0.4081 - accuracy: 0.6299\n",
      "Epoch 61: val_loss did not improve from 0.40692\n",
      "23/23 [==============================] - 43s 2s/step - loss: 0.4088 - accuracy: 0.6303 - val_loss: 0.5451 - val_accuracy: 0.5549\n",
      "Epoch 62/100\n",
      "23/23 [==============================] - ETA: 0s - loss: 0.4023 - accuracy: 0.6320\n",
      "Epoch 62: val_loss did not improve from 0.40692\n",
      "23/23 [==============================] - 42s 2s/step - loss: 0.4027 - accuracy: 0.6332 - val_loss: 0.4430 - val_accuracy: 0.6350\n",
      "Epoch 63/100\n",
      "23/23 [==============================] - ETA: 0s - loss: 0.4005 - accuracy: 0.6300\n",
      "Epoch 63: val_loss did not improve from 0.40692\n",
      "23/23 [==============================] - 43s 2s/step - loss: 0.4021 - accuracy: 0.6283 - val_loss: 0.5318 - val_accuracy: 0.5887\n",
      "Epoch 64/100\n",
      "23/23 [==============================] - ETA: 0s - loss: 0.3971 - accuracy: 0.6329\n",
      "Epoch 64: val_loss did not improve from 0.40692\n",
      "23/23 [==============================] - 44s 2s/step - loss: 0.3948 - accuracy: 0.6340 - val_loss: 0.4550 - val_accuracy: 0.6348\n",
      "Epoch 65/100\n",
      "23/23 [==============================] - ETA: 0s - loss: 0.3955 - accuracy: 0.6351\n",
      "Epoch 65: val_loss did not improve from 0.40692\n",
      "23/23 [==============================] - 38s 2s/step - loss: 0.3962 - accuracy: 0.6350 - val_loss: 0.5705 - val_accuracy: 0.6045\n",
      "Epoch 66/100\n",
      "23/23 [==============================] - ETA: 0s - loss: 0.3945 - accuracy: 0.6339\n",
      "Epoch 66: val_loss did not improve from 0.40692\n",
      "23/23 [==============================] - 42s 2s/step - loss: 0.3943 - accuracy: 0.6333 - val_loss: 0.4451 - val_accuracy: 0.6148\n",
      "Epoch 67/100\n",
      "23/23 [==============================] - ETA: 0s - loss: 0.3928 - accuracy: 0.6396\n",
      "Epoch 67: val_loss did not improve from 0.40692\n",
      "23/23 [==============================] - 42s 2s/step - loss: 0.3946 - accuracy: 0.6387 - val_loss: 0.5189 - val_accuracy: 0.6084\n",
      "Epoch 68/100\n",
      "23/23 [==============================] - ETA: 0s - loss: 0.3895 - accuracy: 0.6436\n",
      "Epoch 68: val_loss did not improve from 0.40692\n",
      "23/23 [==============================] - 42s 2s/step - loss: 0.3897 - accuracy: 0.6431 - val_loss: 0.4641 - val_accuracy: 0.6353\n",
      "Epoch 69/100\n",
      "23/23 [==============================] - ETA: 0s - loss: 0.3831 - accuracy: 0.6458\n",
      "Epoch 69: val_loss did not improve from 0.40692\n",
      "23/23 [==============================] - 43s 2s/step - loss: 0.3846 - accuracy: 0.6454 - val_loss: 0.4917 - val_accuracy: 0.5992\n",
      "Epoch 70/100\n",
      "23/23 [==============================] - ETA: 0s - loss: 0.3841 - accuracy: 0.6437\n",
      "Epoch 70: val_loss did not improve from 0.40692\n",
      "23/23 [==============================] - 44s 2s/step - loss: 0.3839 - accuracy: 0.6429 - val_loss: 0.5217 - val_accuracy: 0.6208\n",
      "Epoch 71/100\n",
      "23/23 [==============================] - ETA: 0s - loss: 0.3837 - accuracy: 0.6455\n",
      "Epoch 71: val_loss did not improve from 0.40692\n",
      "23/23 [==============================] - 42s 2s/step - loss: 0.3848 - accuracy: 0.6454 - val_loss: 0.4736 - val_accuracy: 0.6017\n",
      "Epoch 72/100\n",
      "23/23 [==============================] - ETA: 0s - loss: 0.3793 - accuracy: 0.6496\n",
      "Epoch 72: val_loss did not improve from 0.40692\n",
      "23/23 [==============================] - 45s 2s/step - loss: 0.3788 - accuracy: 0.6494 - val_loss: 0.4690 - val_accuracy: 0.6259\n",
      "Epoch 73/100\n",
      "23/23 [==============================] - ETA: 0s - loss: 0.3781 - accuracy: 0.6485\n",
      "Epoch 73: val_loss did not improve from 0.40692\n",
      "23/23 [==============================] - 44s 2s/step - loss: 0.3768 - accuracy: 0.6492 - val_loss: 0.6023 - val_accuracy: 0.5864\n",
      "Epoch 74/100\n",
      "23/23 [==============================] - ETA: 0s - loss: 0.3762 - accuracy: 0.6488\n",
      "Epoch 74: val_loss did not improve from 0.40692\n",
      "23/23 [==============================] - 41s 2s/step - loss: 0.3753 - accuracy: 0.6486 - val_loss: 0.4520 - val_accuracy: 0.6387\n",
      "Epoch 75/100\n",
      "23/23 [==============================] - ETA: 0s - loss: 0.3725 - accuracy: 0.6525\n",
      "Epoch 75: val_loss did not improve from 0.40692\n",
      "23/23 [==============================] - 43s 2s/step - loss: 0.3738 - accuracy: 0.6518 - val_loss: 0.4138 - val_accuracy: 0.6416\n",
      "Epoch 76/100\n",
      "23/23 [==============================] - ETA: 0s - loss: 0.3708 - accuracy: 0.6578\n",
      "Epoch 76: val_loss did not improve from 0.40692\n",
      "23/23 [==============================] - 42s 2s/step - loss: 0.3716 - accuracy: 0.6582 - val_loss: 0.5941 - val_accuracy: 0.5853\n",
      "Epoch 77/100\n",
      "23/23 [==============================] - ETA: 0s - loss: 0.3689 - accuracy: 0.6553\n",
      "Epoch 77: val_loss did not improve from 0.40692\n",
      "23/23 [==============================] - 42s 2s/step - loss: 0.3686 - accuracy: 0.6546 - val_loss: 0.4995 - val_accuracy: 0.6193\n",
      "Epoch 78/100\n",
      "23/23 [==============================] - ETA: 0s - loss: 0.3682 - accuracy: 0.6569\n",
      "Epoch 78: val_loss did not improve from 0.40692\n",
      "23/23 [==============================] - 42s 2s/step - loss: 0.3679 - accuracy: 0.6574 - val_loss: 0.4713 - val_accuracy: 0.6275\n",
      "Epoch 79/100\n",
      "23/23 [==============================] - ETA: 0s - loss: 0.3658 - accuracy: 0.6556\n",
      "Epoch 79: val_loss did not improve from 0.40692\n",
      "23/23 [==============================] - 44s 2s/step - loss: 0.3675 - accuracy: 0.6542 - val_loss: 0.5007 - val_accuracy: 0.6228\n",
      "Epoch 80/100\n",
      "23/23 [==============================] - ETA: 0s - loss: 0.3657 - accuracy: 0.6549\n",
      "Epoch 80: val_loss did not improve from 0.40692\n",
      "23/23 [==============================] - 45s 2s/step - loss: 0.3681 - accuracy: 0.6540 - val_loss: 0.5295 - val_accuracy: 0.6205\n",
      "Epoch 81/100\n",
      "23/23 [==============================] - ETA: 0s - loss: 0.3670 - accuracy: 0.6561\n",
      "Epoch 81: val_loss did not improve from 0.40692\n",
      "23/23 [==============================] - 44s 2s/step - loss: 0.3675 - accuracy: 0.6554 - val_loss: 0.5121 - val_accuracy: 0.6272\n",
      "Epoch 82/100\n",
      "23/23 [==============================] - ETA: 0s - loss: 0.3632 - accuracy: 0.6584\n",
      "Epoch 82: val_loss did not improve from 0.40692\n",
      "23/23 [==============================] - 43s 2s/step - loss: 0.3646 - accuracy: 0.6568 - val_loss: 0.4626 - val_accuracy: 0.6573\n",
      "Epoch 83/100\n",
      "20/23 [=========================>....] - ETA: 5s - loss: 0.3568 - accuracy: 0.6642"
     ]
    },
    {
     "ename": "KeyboardInterrupt",
     "evalue": "",
     "output_type": "error",
     "traceback": [
      "\u001b[1;31m---------------------------------------------------------------------------\u001b[0m",
      "\u001b[1;31mKeyboardInterrupt\u001b[0m                         Traceback (most recent call last)",
      "Cell \u001b[1;32mIn[44], line 1\u001b[0m\n\u001b[1;32m----> 1\u001b[0m history\u001b[38;5;241m=\u001b[39mmodel\u001b[38;5;241m.\u001b[39mfit(\n\u001b[0;32m      2\u001b[0m     train_data,\n\u001b[0;32m      3\u001b[0m     epochs\u001b[38;5;241m=\u001b[39m\u001b[38;5;241m100\u001b[39m,\n\u001b[0;32m      4\u001b[0m     validation_data\u001b[38;5;241m=\u001b[39mval_data,\n\u001b[0;32m      5\u001b[0m     callbacks\u001b[38;5;241m=\u001b[39m[\n\u001b[0;32m      6\u001b[0m         tf\u001b[38;5;241m.\u001b[39mkeras\u001b[38;5;241m.\u001b[39mcallbacks\u001b[38;5;241m.\u001b[39mTensorBoard(log_dir\u001b[38;5;241m=\u001b[39m\u001b[38;5;124m'\u001b[39m\u001b[38;5;124mlogs\u001b[39m\u001b[38;5;124m'\u001b[39m),\n\u001b[0;32m      7\u001b[0m         tf\u001b[38;5;241m.\u001b[39mkeras\u001b[38;5;241m.\u001b[39mcallbacks\u001b[38;5;241m.\u001b[39mModelCheckpoint(\u001b[38;5;124m'\u001b[39m\u001b[38;5;124mckpt\u001b[39m\u001b[38;5;124m'\u001b[39m,verbose\u001b[38;5;241m=\u001b[39m\u001b[38;5;241m1\u001b[39m,save_best_only\u001b[38;5;241m=\u001b[39m\u001b[38;5;28;01mTrue\u001b[39;00m)\n\u001b[0;32m      8\u001b[0m     ]\n\u001b[0;32m      9\u001b[0m )\n",
      "File \u001b[1;32mD:\\Anaconda\\Lib\\site-packages\\keras\\src\\utils\\traceback_utils.py:65\u001b[0m, in \u001b[0;36mfilter_traceback.<locals>.error_handler\u001b[1;34m(*args, **kwargs)\u001b[0m\n\u001b[0;32m     63\u001b[0m filtered_tb \u001b[38;5;241m=\u001b[39m \u001b[38;5;28;01mNone\u001b[39;00m\n\u001b[0;32m     64\u001b[0m \u001b[38;5;28;01mtry\u001b[39;00m:\n\u001b[1;32m---> 65\u001b[0m     \u001b[38;5;28;01mreturn\u001b[39;00m fn(\u001b[38;5;241m*\u001b[39margs, \u001b[38;5;241m*\u001b[39m\u001b[38;5;241m*\u001b[39mkwargs)\n\u001b[0;32m     66\u001b[0m \u001b[38;5;28;01mexcept\u001b[39;00m \u001b[38;5;167;01mException\u001b[39;00m \u001b[38;5;28;01mas\u001b[39;00m e:\n\u001b[0;32m     67\u001b[0m     filtered_tb \u001b[38;5;241m=\u001b[39m _process_traceback_frames(e\u001b[38;5;241m.\u001b[39m__traceback__)\n",
      "File \u001b[1;32mD:\\Anaconda\\Lib\\site-packages\\keras\\src\\engine\\training.py:1807\u001b[0m, in \u001b[0;36mModel.fit\u001b[1;34m(self, x, y, batch_size, epochs, verbose, callbacks, validation_split, validation_data, shuffle, class_weight, sample_weight, initial_epoch, steps_per_epoch, validation_steps, validation_batch_size, validation_freq, max_queue_size, workers, use_multiprocessing)\u001b[0m\n\u001b[0;32m   1799\u001b[0m \u001b[38;5;28;01mwith\u001b[39;00m tf\u001b[38;5;241m.\u001b[39mprofiler\u001b[38;5;241m.\u001b[39mexperimental\u001b[38;5;241m.\u001b[39mTrace(\n\u001b[0;32m   1800\u001b[0m     \u001b[38;5;124m\"\u001b[39m\u001b[38;5;124mtrain\u001b[39m\u001b[38;5;124m\"\u001b[39m,\n\u001b[0;32m   1801\u001b[0m     epoch_num\u001b[38;5;241m=\u001b[39mepoch,\n\u001b[1;32m   (...)\u001b[0m\n\u001b[0;32m   1804\u001b[0m     _r\u001b[38;5;241m=\u001b[39m\u001b[38;5;241m1\u001b[39m,\n\u001b[0;32m   1805\u001b[0m ):\n\u001b[0;32m   1806\u001b[0m     callbacks\u001b[38;5;241m.\u001b[39mon_train_batch_begin(step)\n\u001b[1;32m-> 1807\u001b[0m     tmp_logs \u001b[38;5;241m=\u001b[39m \u001b[38;5;28mself\u001b[39m\u001b[38;5;241m.\u001b[39mtrain_function(iterator)\n\u001b[0;32m   1808\u001b[0m     \u001b[38;5;28;01mif\u001b[39;00m data_handler\u001b[38;5;241m.\u001b[39mshould_sync:\n\u001b[0;32m   1809\u001b[0m         context\u001b[38;5;241m.\u001b[39masync_wait()\n",
      "File \u001b[1;32mD:\\Anaconda\\Lib\\site-packages\\tensorflow\\python\\util\\traceback_utils.py:150\u001b[0m, in \u001b[0;36mfilter_traceback.<locals>.error_handler\u001b[1;34m(*args, **kwargs)\u001b[0m\n\u001b[0;32m    148\u001b[0m filtered_tb \u001b[38;5;241m=\u001b[39m \u001b[38;5;28;01mNone\u001b[39;00m\n\u001b[0;32m    149\u001b[0m \u001b[38;5;28;01mtry\u001b[39;00m:\n\u001b[1;32m--> 150\u001b[0m   \u001b[38;5;28;01mreturn\u001b[39;00m fn(\u001b[38;5;241m*\u001b[39margs, \u001b[38;5;241m*\u001b[39m\u001b[38;5;241m*\u001b[39mkwargs)\n\u001b[0;32m    151\u001b[0m \u001b[38;5;28;01mexcept\u001b[39;00m \u001b[38;5;167;01mException\u001b[39;00m \u001b[38;5;28;01mas\u001b[39;00m e:\n\u001b[0;32m    152\u001b[0m   filtered_tb \u001b[38;5;241m=\u001b[39m _process_traceback_frames(e\u001b[38;5;241m.\u001b[39m__traceback__)\n",
      "File \u001b[1;32mD:\\Anaconda\\Lib\\site-packages\\tensorflow\\python\\eager\\polymorphic_function\\polymorphic_function.py:832\u001b[0m, in \u001b[0;36mFunction.__call__\u001b[1;34m(self, *args, **kwds)\u001b[0m\n\u001b[0;32m    829\u001b[0m compiler \u001b[38;5;241m=\u001b[39m \u001b[38;5;124m\"\u001b[39m\u001b[38;5;124mxla\u001b[39m\u001b[38;5;124m\"\u001b[39m \u001b[38;5;28;01mif\u001b[39;00m \u001b[38;5;28mself\u001b[39m\u001b[38;5;241m.\u001b[39m_jit_compile \u001b[38;5;28;01melse\u001b[39;00m \u001b[38;5;124m\"\u001b[39m\u001b[38;5;124mnonXla\u001b[39m\u001b[38;5;124m\"\u001b[39m\n\u001b[0;32m    831\u001b[0m \u001b[38;5;28;01mwith\u001b[39;00m OptionalXlaContext(\u001b[38;5;28mself\u001b[39m\u001b[38;5;241m.\u001b[39m_jit_compile):\n\u001b[1;32m--> 832\u001b[0m   result \u001b[38;5;241m=\u001b[39m \u001b[38;5;28mself\u001b[39m\u001b[38;5;241m.\u001b[39m_call(\u001b[38;5;241m*\u001b[39margs, \u001b[38;5;241m*\u001b[39m\u001b[38;5;241m*\u001b[39mkwds)\n\u001b[0;32m    834\u001b[0m new_tracing_count \u001b[38;5;241m=\u001b[39m \u001b[38;5;28mself\u001b[39m\u001b[38;5;241m.\u001b[39mexperimental_get_tracing_count()\n\u001b[0;32m    835\u001b[0m without_tracing \u001b[38;5;241m=\u001b[39m (tracing_count \u001b[38;5;241m==\u001b[39m new_tracing_count)\n",
      "File \u001b[1;32mD:\\Anaconda\\Lib\\site-packages\\tensorflow\\python\\eager\\polymorphic_function\\polymorphic_function.py:868\u001b[0m, in \u001b[0;36mFunction._call\u001b[1;34m(self, *args, **kwds)\u001b[0m\n\u001b[0;32m    865\u001b[0m   \u001b[38;5;28mself\u001b[39m\u001b[38;5;241m.\u001b[39m_lock\u001b[38;5;241m.\u001b[39mrelease()\n\u001b[0;32m    866\u001b[0m   \u001b[38;5;66;03m# In this case we have created variables on the first call, so we run the\u001b[39;00m\n\u001b[0;32m    867\u001b[0m   \u001b[38;5;66;03m# defunned version which is guaranteed to never create variables.\u001b[39;00m\n\u001b[1;32m--> 868\u001b[0m   \u001b[38;5;28;01mreturn\u001b[39;00m tracing_compilation\u001b[38;5;241m.\u001b[39mcall_function(\n\u001b[0;32m    869\u001b[0m       args, kwds, \u001b[38;5;28mself\u001b[39m\u001b[38;5;241m.\u001b[39m_no_variable_creation_config\n\u001b[0;32m    870\u001b[0m   )\n\u001b[0;32m    871\u001b[0m \u001b[38;5;28;01melif\u001b[39;00m \u001b[38;5;28mself\u001b[39m\u001b[38;5;241m.\u001b[39m_variable_creation_config \u001b[38;5;129;01mis\u001b[39;00m \u001b[38;5;129;01mnot\u001b[39;00m \u001b[38;5;28;01mNone\u001b[39;00m:\n\u001b[0;32m    872\u001b[0m   \u001b[38;5;66;03m# Release the lock early so that multiple threads can perform the call\u001b[39;00m\n\u001b[0;32m    873\u001b[0m   \u001b[38;5;66;03m# in parallel.\u001b[39;00m\n\u001b[0;32m    874\u001b[0m   \u001b[38;5;28mself\u001b[39m\u001b[38;5;241m.\u001b[39m_lock\u001b[38;5;241m.\u001b[39mrelease()\n",
      "File \u001b[1;32mD:\\Anaconda\\Lib\\site-packages\\tensorflow\\python\\eager\\polymorphic_function\\tracing_compilation.py:139\u001b[0m, in \u001b[0;36mcall_function\u001b[1;34m(args, kwargs, tracing_options)\u001b[0m\n\u001b[0;32m    137\u001b[0m bound_args \u001b[38;5;241m=\u001b[39m function\u001b[38;5;241m.\u001b[39mfunction_type\u001b[38;5;241m.\u001b[39mbind(\u001b[38;5;241m*\u001b[39margs, \u001b[38;5;241m*\u001b[39m\u001b[38;5;241m*\u001b[39mkwargs)\n\u001b[0;32m    138\u001b[0m flat_inputs \u001b[38;5;241m=\u001b[39m function\u001b[38;5;241m.\u001b[39mfunction_type\u001b[38;5;241m.\u001b[39munpack_inputs(bound_args)\n\u001b[1;32m--> 139\u001b[0m \u001b[38;5;28;01mreturn\u001b[39;00m function\u001b[38;5;241m.\u001b[39m_call_flat(  \u001b[38;5;66;03m# pylint: disable=protected-access\u001b[39;00m\n\u001b[0;32m    140\u001b[0m     flat_inputs, captured_inputs\u001b[38;5;241m=\u001b[39mfunction\u001b[38;5;241m.\u001b[39mcaptured_inputs\n\u001b[0;32m    141\u001b[0m )\n",
      "File \u001b[1;32mD:\\Anaconda\\Lib\\site-packages\\tensorflow\\python\\eager\\polymorphic_function\\concrete_function.py:1323\u001b[0m, in \u001b[0;36mConcreteFunction._call_flat\u001b[1;34m(self, tensor_inputs, captured_inputs)\u001b[0m\n\u001b[0;32m   1319\u001b[0m possible_gradient_type \u001b[38;5;241m=\u001b[39m gradients_util\u001b[38;5;241m.\u001b[39mPossibleTapeGradientTypes(args)\n\u001b[0;32m   1320\u001b[0m \u001b[38;5;28;01mif\u001b[39;00m (possible_gradient_type \u001b[38;5;241m==\u001b[39m gradients_util\u001b[38;5;241m.\u001b[39mPOSSIBLE_GRADIENT_TYPES_NONE\n\u001b[0;32m   1321\u001b[0m     \u001b[38;5;129;01mand\u001b[39;00m executing_eagerly):\n\u001b[0;32m   1322\u001b[0m   \u001b[38;5;66;03m# No tape is watching; skip to running the function.\u001b[39;00m\n\u001b[1;32m-> 1323\u001b[0m   \u001b[38;5;28;01mreturn\u001b[39;00m \u001b[38;5;28mself\u001b[39m\u001b[38;5;241m.\u001b[39m_inference_function\u001b[38;5;241m.\u001b[39mcall_preflattened(args)\n\u001b[0;32m   1324\u001b[0m forward_backward \u001b[38;5;241m=\u001b[39m \u001b[38;5;28mself\u001b[39m\u001b[38;5;241m.\u001b[39m_select_forward_and_backward_functions(\n\u001b[0;32m   1325\u001b[0m     args,\n\u001b[0;32m   1326\u001b[0m     possible_gradient_type,\n\u001b[0;32m   1327\u001b[0m     executing_eagerly)\n\u001b[0;32m   1328\u001b[0m forward_function, args_with_tangents \u001b[38;5;241m=\u001b[39m forward_backward\u001b[38;5;241m.\u001b[39mforward()\n",
      "File \u001b[1;32mD:\\Anaconda\\Lib\\site-packages\\tensorflow\\python\\eager\\polymorphic_function\\atomic_function.py:216\u001b[0m, in \u001b[0;36mAtomicFunction.call_preflattened\u001b[1;34m(self, args)\u001b[0m\n\u001b[0;32m    214\u001b[0m \u001b[38;5;28;01mdef\u001b[39;00m \u001b[38;5;21mcall_preflattened\u001b[39m(\u001b[38;5;28mself\u001b[39m, args: Sequence[core\u001b[38;5;241m.\u001b[39mTensor]) \u001b[38;5;241m-\u001b[39m\u001b[38;5;241m>\u001b[39m Any:\n\u001b[0;32m    215\u001b[0m \u001b[38;5;250m  \u001b[39m\u001b[38;5;124;03m\"\"\"Calls with flattened tensor inputs and returns the structured output.\"\"\"\u001b[39;00m\n\u001b[1;32m--> 216\u001b[0m   flat_outputs \u001b[38;5;241m=\u001b[39m \u001b[38;5;28mself\u001b[39m\u001b[38;5;241m.\u001b[39mcall_flat(\u001b[38;5;241m*\u001b[39margs)\n\u001b[0;32m    217\u001b[0m   \u001b[38;5;28;01mreturn\u001b[39;00m \u001b[38;5;28mself\u001b[39m\u001b[38;5;241m.\u001b[39mfunction_type\u001b[38;5;241m.\u001b[39mpack_output(flat_outputs)\n",
      "File \u001b[1;32mD:\\Anaconda\\Lib\\site-packages\\tensorflow\\python\\eager\\polymorphic_function\\atomic_function.py:251\u001b[0m, in \u001b[0;36mAtomicFunction.call_flat\u001b[1;34m(self, *args)\u001b[0m\n\u001b[0;32m    249\u001b[0m \u001b[38;5;28;01mwith\u001b[39;00m record\u001b[38;5;241m.\u001b[39mstop_recording():\n\u001b[0;32m    250\u001b[0m   \u001b[38;5;28;01mif\u001b[39;00m \u001b[38;5;28mself\u001b[39m\u001b[38;5;241m.\u001b[39m_bound_context\u001b[38;5;241m.\u001b[39mexecuting_eagerly():\n\u001b[1;32m--> 251\u001b[0m     outputs \u001b[38;5;241m=\u001b[39m \u001b[38;5;28mself\u001b[39m\u001b[38;5;241m.\u001b[39m_bound_context\u001b[38;5;241m.\u001b[39mcall_function(\n\u001b[0;32m    252\u001b[0m         \u001b[38;5;28mself\u001b[39m\u001b[38;5;241m.\u001b[39mname,\n\u001b[0;32m    253\u001b[0m         \u001b[38;5;28mlist\u001b[39m(args),\n\u001b[0;32m    254\u001b[0m         \u001b[38;5;28mlen\u001b[39m(\u001b[38;5;28mself\u001b[39m\u001b[38;5;241m.\u001b[39mfunction_type\u001b[38;5;241m.\u001b[39mflat_outputs),\n\u001b[0;32m    255\u001b[0m     )\n\u001b[0;32m    256\u001b[0m   \u001b[38;5;28;01melse\u001b[39;00m:\n\u001b[0;32m    257\u001b[0m     outputs \u001b[38;5;241m=\u001b[39m make_call_op_in_graph(\n\u001b[0;32m    258\u001b[0m         \u001b[38;5;28mself\u001b[39m,\n\u001b[0;32m    259\u001b[0m         \u001b[38;5;28mlist\u001b[39m(args),\n\u001b[0;32m    260\u001b[0m         \u001b[38;5;28mself\u001b[39m\u001b[38;5;241m.\u001b[39m_bound_context\u001b[38;5;241m.\u001b[39mfunction_call_options\u001b[38;5;241m.\u001b[39mas_attrs(),\n\u001b[0;32m    261\u001b[0m     )\n",
      "File \u001b[1;32mD:\\Anaconda\\Lib\\site-packages\\tensorflow\\python\\eager\\context.py:1486\u001b[0m, in \u001b[0;36mContext.call_function\u001b[1;34m(self, name, tensor_inputs, num_outputs)\u001b[0m\n\u001b[0;32m   1484\u001b[0m cancellation_context \u001b[38;5;241m=\u001b[39m cancellation\u001b[38;5;241m.\u001b[39mcontext()\n\u001b[0;32m   1485\u001b[0m \u001b[38;5;28;01mif\u001b[39;00m cancellation_context \u001b[38;5;129;01mis\u001b[39;00m \u001b[38;5;28;01mNone\u001b[39;00m:\n\u001b[1;32m-> 1486\u001b[0m   outputs \u001b[38;5;241m=\u001b[39m execute\u001b[38;5;241m.\u001b[39mexecute(\n\u001b[0;32m   1487\u001b[0m       name\u001b[38;5;241m.\u001b[39mdecode(\u001b[38;5;124m\"\u001b[39m\u001b[38;5;124mutf-8\u001b[39m\u001b[38;5;124m\"\u001b[39m),\n\u001b[0;32m   1488\u001b[0m       num_outputs\u001b[38;5;241m=\u001b[39mnum_outputs,\n\u001b[0;32m   1489\u001b[0m       inputs\u001b[38;5;241m=\u001b[39mtensor_inputs,\n\u001b[0;32m   1490\u001b[0m       attrs\u001b[38;5;241m=\u001b[39mattrs,\n\u001b[0;32m   1491\u001b[0m       ctx\u001b[38;5;241m=\u001b[39m\u001b[38;5;28mself\u001b[39m,\n\u001b[0;32m   1492\u001b[0m   )\n\u001b[0;32m   1493\u001b[0m \u001b[38;5;28;01melse\u001b[39;00m:\n\u001b[0;32m   1494\u001b[0m   outputs \u001b[38;5;241m=\u001b[39m execute\u001b[38;5;241m.\u001b[39mexecute_with_cancellation(\n\u001b[0;32m   1495\u001b[0m       name\u001b[38;5;241m.\u001b[39mdecode(\u001b[38;5;124m\"\u001b[39m\u001b[38;5;124mutf-8\u001b[39m\u001b[38;5;124m\"\u001b[39m),\n\u001b[0;32m   1496\u001b[0m       num_outputs\u001b[38;5;241m=\u001b[39mnum_outputs,\n\u001b[1;32m   (...)\u001b[0m\n\u001b[0;32m   1500\u001b[0m       cancellation_manager\u001b[38;5;241m=\u001b[39mcancellation_context,\n\u001b[0;32m   1501\u001b[0m   )\n",
      "File \u001b[1;32mD:\\Anaconda\\Lib\\site-packages\\tensorflow\\python\\eager\\execute.py:53\u001b[0m, in \u001b[0;36mquick_execute\u001b[1;34m(op_name, num_outputs, inputs, attrs, ctx, name)\u001b[0m\n\u001b[0;32m     51\u001b[0m \u001b[38;5;28;01mtry\u001b[39;00m:\n\u001b[0;32m     52\u001b[0m   ctx\u001b[38;5;241m.\u001b[39mensure_initialized()\n\u001b[1;32m---> 53\u001b[0m   tensors \u001b[38;5;241m=\u001b[39m pywrap_tfe\u001b[38;5;241m.\u001b[39mTFE_Py_Execute(ctx\u001b[38;5;241m.\u001b[39m_handle, device_name, op_name,\n\u001b[0;32m     54\u001b[0m                                       inputs, attrs, num_outputs)\n\u001b[0;32m     55\u001b[0m \u001b[38;5;28;01mexcept\u001b[39;00m core\u001b[38;5;241m.\u001b[39m_NotOkStatusException \u001b[38;5;28;01mas\u001b[39;00m e:\n\u001b[0;32m     56\u001b[0m   \u001b[38;5;28;01mif\u001b[39;00m name \u001b[38;5;129;01mis\u001b[39;00m \u001b[38;5;129;01mnot\u001b[39;00m \u001b[38;5;28;01mNone\u001b[39;00m:\n",
      "\u001b[1;31mKeyboardInterrupt\u001b[0m: "
     ]
    }
   ],
   "source": [
    "history=model.fit(\n",
    "    train_data,\n",
    "    epochs=100,\n",
    "    validation_data=val_data,\n",
    "    callbacks=[\n",
    "        tf.keras.callbacks.TensorBoard(log_dir='logs'),\n",
    "        tf.keras.callbacks.ModelCheckpoint('ckpt',verbose=1,save_best_only=True)\n",
    "    ]\n",
    ")"
   ]
  },
  {
   "cell_type": "markdown",
   "id": "5f815a8c-a3f3-4adc-b42a-aaa75f81d458",
   "metadata": {},
   "source": [
    "## Visualize Metrics"
   ]
  },
  {
   "cell_type": "code",
   "execution_count": 45,
   "id": "2a8ed02c-287f-495b-8cfe-8a599372296e",
   "metadata": {},
   "outputs": [
    {
     "data": {
      "image/png": "[encoded data removed]",
      "text/plain": [
       "<Figure size 2000x500 with 2 Axes>"
      ]
     },
     "metadata": {},
     "output_type": "display_data"
    }
   ],
   "source": [
    "fig,ax=plt.subplots(nrows=1,ncols=2,figsize=(20,5))\n",
    "ax[0].plot(history.history['loss'],label='loss',c='red')\n",
    "ax[0].plot(history.history['val_loss'],label='val_loss',c = 'blue')\n",
    "ax[0].set_xlabel('Epochs')\n",
    "ax[1].set_xlabel('Epochs')\n",
    "ax[0].set_ylabel('Loss')\n",
    "ax[1].set_ylabel('Accuracy')\n",
    "ax[0].set_title('Loss Metrics')\n",
    "ax[1].set_title('Accuracy Metrics')\n",
    "ax[1].plot(history.history['accuracy'],label='accuracy')\n",
    "ax[1].plot(history.history['val_accuracy'],label='val_accuracy')\n",
    "ax[0].legend()\n",
    "ax[1].legend()\n",
    "plt.show()"
   ]
  },
  {
   "cell_type": "markdown",
   "id": "e1c49880-cc9e-41be-a0f3-ec2f252e5793",
   "metadata": {},
   "source": [
    "### Save Model"
   ]
  },
  {
   "cell_type": "code",
   "execution_count": 46,
   "id": "f96e7cf9-1b8f-4a42-8d9b-ba589c6d8a5f",
   "metadata": {},
   "outputs": [
    {
     "name": "stdout",
     "output_type": "stream",
     "text": [
      "WARNING:tensorflow:Model's `__init__()` arguments contain non-serializable objects. Please implement a `get_config()` method in the subclassed Model for proper saving and loading. Defaulting to empty config.\n"
     ]
    },
    {
     "name": "stderr",
     "output_type": "stream",
     "text": [
      "WARNING:tensorflow:Model's `__init__()` arguments contain non-serializable objects. Please implement a `get_config()` method in the subclassed Model for proper saving and loading. Defaulting to empty config.\n"
     ]
    },
    {
     "name": "stdout",
     "output_type": "stream",
     "text": [
      "WARNING:tensorflow:Model's `__init__()` arguments contain non-serializable objects. Please implement a `get_config()` method in the subclassed Model for proper saving and loading. Defaulting to empty config.\n"
     ]
    },
    {
     "name": "stderr",
     "output_type": "stream",
     "text": [
      "WARNING:tensorflow:Model's `__init__()` arguments contain non-serializable objects. Please implement a `get_config()` method in the subclassed Model for proper saving and loading. Defaulting to empty config.\n"
     ]
    },
    {
     "name": "stdout",
     "output_type": "stream",
     "text": [
      "INFO:tensorflow:Assets written to: models\\assets\n"
     ]
    },
    {
     "name": "stderr",
     "output_type": "stream",
     "text": [
      "INFO:tensorflow:Assets written to: models\\assets\n"
     ]
    },
    {
     "name": "stdout",
     "output_type": "stream",
     "text": [
      "WARNING:tensorflow:Model's `__init__()` arguments contain non-serializable objects. Please implement a `get_config()` method in the subclassed Model for proper saving and loading. Defaulting to empty config.\n"
     ]
    },
    {
     "name": "stderr",
     "output_type": "stream",
     "text": [
      "WARNING:tensorflow:Model's `__init__()` arguments contain non-serializable objects. Please implement a `get_config()` method in the subclassed Model for proper saving and loading. Defaulting to empty config.\n"
     ]
    },
    {
     "name": "stdout",
     "output_type": "stream",
     "text": [
      "WARNING:tensorflow:Model's `__init__()` arguments contain non-serializable objects. Please implement a `get_config()` method in the subclassed Model for proper saving and loading. Defaulting to empty config.\n"
     ]
    },
    {
     "name": "stderr",
     "output_type": "stream",
     "text": [
      "WARNING:tensorflow:Model's `__init__()` arguments contain non-serializable objects. Please implement a `get_config()` method in the subclassed Model for proper saving and loading. Defaulting to empty config.\n"
     ]
    }
   ],
   "source": [
    "model.load_weights('ckpt')\n",
    "model.save('models',save_format='tf')"
   ]
  },
  {
   "cell_type": "code",
   "execution_count": 47,
   "id": "3789af16-503f-49c5-a5b3-94a05397bde9",
   "metadata": {},
   "outputs": [
    {
     "name": "stdout",
     "output_type": "stream",
     "text": [
      "Encoder layers:\n",
      "<keras.src.layers.core.embedding.Embedding object at 0x000001F968C8DFD0>\n",
      "<keras.src.layers.normalization.layer_normalization.LayerNormalization object at 0x000001F9521CE490>\n",
      "<keras.src.layers.rnn.lstm.LSTM object at 0x000001F96ED55CD0>\n",
      "---------------------\n",
      "Decoder layers: \n",
      "<keras.src.layers.core.embedding.Embedding object at 0x000001F96ED49710>\n",
      "<keras.src.layers.normalization.layer_normalization.LayerNormalization object at 0x000001F96ED48050>\n",
      "<keras.src.layers.rnn.lstm.LSTM object at 0x000001F96ED110D0>\n",
      "<keras.src.layers.core.dense.Dense object at 0x000001F96ED08750>\n",
      "---------------------\n"
     ]
    }
   ],
   "source": [
    "for idx,i in enumerate(model.layers):\n",
    "    print('Encoder layers:' if idx==0 else 'Decoder layers: ')\n",
    "    for j in i.layers:\n",
    "        print(j)\n",
    "    print('---------------------')"
   ]
  },
  {
   "cell_type": "markdown",
   "id": "f82a4ac1-72e6-4d70-9af8-91b9ce90fefc",
   "metadata": {},
   "source": [
    "## Create Inference Model"
   ]
  },
  {
   "cell_type": "code",
   "execution_count": 48,
   "id": "0d4fb228-11c4-40ad-b7e6-20f67ff154c2",
   "metadata": {},
   "outputs": [
    {
     "name": "stdout",
     "output_type": "stream",
     "text": [
      "Model: \"chatbot_encoder\"\n",
      "_________________________________________________________________\n",
      " Layer (type)                Output Shape              Param #   \n",
      "=================================================================\n",
      " input_9 (InputLayer)        [(None, None)]            0         \n",
      "                                                                 \n",
      " encoder_embedding (Embeddi  (None, None, 256)         625408    \n",
      " ng)                                                             \n",
      "                                                                 \n",
      " layer_normalization (Layer  (None, None, 256)         512       \n",
      " Normalization)                                                  \n",
      "                                                                 \n",
      " encoder_lstm (LSTM)         [(None, None, 256),       525312    \n",
      "                              (None, 256),                       \n",
      "                              (None, 256)]                       \n",
      "                                                                 \n",
      "=================================================================\n",
      "Total params: 1151232 (4.39 MB)\n",
      "Trainable params: 1151232 (4.39 MB)\n",
      "Non-trainable params: 0 (0.00 Byte)\n",
      "_________________________________________________________________\n",
      "Model: \"chatbot_decoder\"\n",
      "__________________________________________________________________________________________________\n",
      " Layer (type)                Output Shape                 Param #   Connected to                  \n",
      "==================================================================================================\n",
      " input_12 (InputLayer)       [(None, None)]               0         []                            \n",
      "                                                                                                  \n",
      " decoder_embedding (Embeddi  (None, None, 256)            625408    ['input_12[0][0]']            \n",
      " ng)                                                                                              \n",
      "                                                                                                  \n",
      " layer_normalization (Layer  (None, None, 256)            512       ['decoder_embedding[0][0]']   \n",
      " Normalization)                                                                                   \n",
      "                                                                                                  \n",
      " input_10 (InputLayer)       [(None, 256)]                0         []                            \n",
      "                                                                                                  \n",
      " input_11 (InputLayer)       [(None, 256)]                0         []                            \n",
      "                                                                                                  \n",
      " decoder_lstm (LSTM)         [(None, None, 256),          525312    ['layer_normalization[1][0]', \n",
      "                              (None, 256),                           'input_10[0][0]',            \n",
      "                              (None, 256)]                           'input_11[0][0]']            \n",
      "                                                                                                  \n",
      " decoder_dense (Dense)       (None, None, 2443)           627851    ['decoder_lstm[0][0]']        \n",
      "                                                                                                  \n",
      "==================================================================================================\n",
      "Total params: 1779083 (6.79 MB)\n",
      "Trainable params: 1779083 (6.79 MB)\n",
      "Non-trainable params: 0 (0.00 Byte)\n",
      "__________________________________________________________________________________________________\n"
     ]
    }
   ],
   "source": [
    "class ChatBot(tf.keras.models.Model):\n",
    "    def __init__(self,base_encoder,base_decoder,*args,**kwargs):\n",
    "        super().__init__(*args,**kwargs)\n",
    "        self.encoder,self.decoder=self.build_inference_model(base_encoder,base_decoder)\n",
    "\n",
    "    def build_inference_model(self,base_encoder,base_decoder):\n",
    "        encoder_inputs=tf.keras.Input(shape=(None,))\n",
    "        x=base_encoder.layers[0](encoder_inputs)\n",
    "        x=base_encoder.layers[1](x)\n",
    "        x,encoder_state_h,encoder_state_c=base_encoder.layers[2](x)\n",
    "        encoder=tf.keras.models.Model(inputs=encoder_inputs,outputs=[encoder_state_h,encoder_state_c],name='chatbot_encoder')\n",
    "\n",
    "        decoder_input_state_h=tf.keras.Input(shape=(lstm_cells,))\n",
    "        decoder_input_state_c=tf.keras.Input(shape=(lstm_cells,))\n",
    "        decoder_inputs=tf.keras.Input(shape=(None,))\n",
    "        x=base_decoder.layers[0](decoder_inputs)\n",
    "        x=base_encoder.layers[1](x)\n",
    "        x,decoder_state_h,decoder_state_c=base_decoder.layers[2](x,initial_state=[decoder_input_state_h,decoder_input_state_c])\n",
    "        decoder_outputs=base_decoder.layers[-1](x)\n",
    "        decoder=tf.keras.models.Model(\n",
    "            inputs=[decoder_inputs,[decoder_input_state_h,decoder_input_state_c]],\n",
    "            outputs=[decoder_outputs,[decoder_state_h,decoder_state_c]],name='chatbot_decoder'\n",
    "        )\n",
    "        return encoder,decoder\n",
    "\n",
    "    def summary(self):\n",
    "        self.encoder.summary()\n",
    "        self.decoder.summary()\n",
    "\n",
    "    def softmax(self,z):\n",
    "        return np.exp(z)/sum(np.exp(z))\n",
    "\n",
    "    def sample(self,conditional_probability,temperature=0.5):\n",
    "        conditional_probability = np.asarray(conditional_probability).astype(\"float64\")\n",
    "        conditional_probability = np.log(conditional_probability) / temperature\n",
    "        reweighted_conditional_probability = self.softmax(conditional_probability)\n",
    "        probas = np.random.multinomial(1, reweighted_conditional_probability, 1)\n",
    "        return np.argmax(probas)\n",
    "\n",
    "    def preprocess(self,text):\n",
    "        text=clean_text(text)\n",
    "        seq=np.zeros((1,max_sequence_length),dtype=np.int32)\n",
    "        for i,word in enumerate(text.split()):\n",
    "            seq[:,i]=sequences2ids(word).numpy()[0]\n",
    "        return seq\n",
    "    \n",
    "    def postprocess(self,text):\n",
    "        text=re.sub(' - ','-',text.lower())\n",
    "        text=re.sub(' [.] ','. ',text)\n",
    "        text=re.sub(' [1] ','1',text)\n",
    "        text=re.sub(' [2] ','2',text)\n",
    "        text=re.sub(' [3] ','3',text)\n",
    "        text=re.sub(' [4] ','4',text)\n",
    "        text=re.sub(' [5] ','5',text)\n",
    "        text=re.sub(' [6] ','6',text)\n",
    "        text=re.sub(' [7] ','7',text)\n",
    "        text=re.sub(' [8] ','8',text)\n",
    "        text=re.sub(' [9] ','9',text)\n",
    "        text=re.sub(' [0] ','0',text)\n",
    "        text=re.sub(' [,] ',', ',text)\n",
    "        text=re.sub(' [?] ','? ',text)\n",
    "        text=re.sub(' [!] ','! ',text)\n",
    "        text=re.sub(' [$] ','$ ',text)\n",
    "        text=re.sub(' [&] ','& ',text)\n",
    "        text=re.sub(' [/] ','/ ',text)\n",
    "        text=re.sub(' [:] ',': ',text)\n",
    "        text=re.sub(' [;] ','; ',text)\n",
    "        text=re.sub(' [*] ','* ',text)\n",
    "        text=re.sub(' [\\'] ','\\'',text)\n",
    "        text=re.sub(' [\\\"] ','\\\"',text)\n",
    "        return text\n",
    "\n",
    "    def call(self,text,config=None):\n",
    "        input_seq=self.preprocess(text)\n",
    "        states=self.encoder(input_seq,training=False)\n",
    "        target_seq=np.zeros((1,1))\n",
    "        target_seq[:,:]=sequences2ids(['<start>']).numpy()[0][0]\n",
    "        stop_condition=False\n",
    "        decoded=[]\n",
    "        while not stop_condition:\n",
    "            decoder_outputs,new_states=self.decoder([target_seq,states],training=False)\n",
    "#             index=tf.argmax(decoder_outputs[:,-1,:],axis=-1).numpy().item()\n",
    "            index=self.sample(decoder_outputs[0,0,:]).item()\n",
    "            word=ids2sequences([index])\n",
    "            if word=='<end> ' or len(decoded)>=max_sequence_length:\n",
    "                stop_condition=True\n",
    "            else:\n",
    "                decoded.append(index)\n",
    "                target_seq=np.zeros((1,1))\n",
    "                target_seq[:,:]=index\n",
    "                states=new_states\n",
    "        return self.postprocess(ids2sequences(decoded))\n",
    "\n",
    "chatbot=ChatBot(model.encoder,model.decoder,name='chatbot')\n",
    "chatbot.summary()"
   ]
  },
  {
   "cell_type": "markdown",
   "id": "2ef82ed4-15c9-4d38-9451-5a7e2f668c4a",
   "metadata": {},
   "source": [
    "### Time to chat"
   ]
  },
  {
   "cell_type": "code",
   "execution_count": 49,
   "id": "25b7200c-3655-4f1e-bc60-f5d493b404dd",
   "metadata": {},
   "outputs": [],
   "source": [
    "def print_conversation(texts):\n",
    "    for text in texts:\n",
    "        print(f'You: {text}')\n",
    "        print(f'Bot: {chatbot(text)}')\n",
    "        print('========================')"
   ]
  },
  {
   "cell_type": "code",
   "execution_count": 50,
   "id": "a4501c34-5b40-4596-9033-09891420ccf3",
   "metadata": {},
   "outputs": [
    {
     "name": "stdout",
     "output_type": "stream",
     "text": [
      "You: hi\n",
      "Bot: they don't know. \n",
      "========================\n",
      "You: do yo know me?\n",
      "Bot: no. they said there's the only candidate that i've. \n",
      "========================\n",
      "You: what is your name?\n",
      "Bot: i'm going to give the sheets. \n",
      "========================\n",
      "You: you are bot?\n",
      "Bot: i don't know. i'm not sure. \n",
      "========================\n",
      "You: hi, how are you doing?\n",
      "Bot: i've been working too. \n",
      "========================\n",
      "You: i'm pretty good. thanks for asking.\n",
      "Bot: no, i think i'll make a sandwich. \n",
      "========================\n",
      "You: Don't ever be in a hurry\n",
      "Bot: it's a little bitter, but i don't think she's given out that many. \n",
      "========================\n",
      "You: I'm gonna put some dirt in your eye \n",
      "Bot: that's a good question. \n",
      "========================\n",
      "You: You're trash \n",
      "Bot: i'm sorry. i'm not hungry. \n",
      "========================\n",
      "You: I've read all your research on nano-technology \n",
      "Bot: i've been really busy. i love to eat the hot dogs. \n",
      "========================\n",
      "You: You want forgiveness? Get religion\n",
      "Bot: i'll get a new mattress. \n",
      "========================\n",
      "You: While you're using the bathroom, i'll order some food.\n",
      "Bot: don't order a good idea. i'll order for your invitation. \n",
      "========================\n",
      "You: Wow! that's terrible.\n",
      "Bot: never park the car under the tree. \n",
      "========================\n",
      "You: We'll be here forever.\n",
      "Bot: we'll see the collision if it happen. \n",
      "========================\n",
      "You: I need something that's reliable.\n",
      "Bot: you need a car with low mileage. \n",
      "========================\n",
      "You: A speeding car ran a red light, killing the girl.\n",
      "Bot: what happened? \n",
      "========================\n",
      "You: Tomorrow we'll have rice and fish for lunch.\n",
      "Bot: i'll see the food and the cut heals. \n",
      "========================\n",
      "You: I like this restaurant because they give you free bread.\n",
      "Bot: well, you're right. you left the burner on. \n",
      "========================\n"
     ]
    }
   ],
   "source": [
    "print_conversation([\n",
    "    'hi',\n",
    "    'do yo know me?',\n",
    "    'what is your name?',\n",
    "    'you are bot?',\n",
    "    'hi, how are you doing?',\n",
    "    \"i'm pretty good. thanks for asking.\",\n",
    "    \"Don't ever be in a hurry\",\n",
    "    '''I'm gonna put some dirt in your eye ''',\n",
    "    '''You're trash ''',\n",
    "    '''I've read all your research on nano-technology ''',\n",
    "    '''You want forgiveness? Get religion''',\n",
    "    '''While you're using the bathroom, i'll order some food.''',\n",
    "    '''Wow! that's terrible.''',\n",
    "    '''We'll be here forever.''',\n",
    "    '''I need something that's reliable.''',\n",
    "    '''A speeding car ran a red light, killing the girl.''',\n",
    "    '''Tomorrow we'll have rice and fish for lunch.''',\n",
    "    '''I like this restaurant because they give you free bread.'''\n",
    "])"
   ]
  },
  {
   "cell_type": "code",
   "execution_count": null,
   "id": "5235c17c-bcc3-44b6-b28b-5dbe4d198640",
   "metadata": {},
   "outputs": [],
   "source": []
  },
  {
   "cell_type": "code",
   "execution_count": null,
   "id": "22069757-cd8b-4a11-a4a2-066e8649b52e",
   "metadata": {},
   "outputs": [],
   "source": []
  }
 ],
 "metadata": {
  "kernelspec": {
   "display_name": "Python 3 (ipykernel)",
   "language": "python",
   "name": "python3"
  },
  "language_info": {
   "codemirror_mode": {
    "name": "ipython",
    "version": 3
   },
   "file_extension": ".py",
   "mimetype": "text/x-python",
   "name": "python",
   "nbconvert_exporter": "python",
   "pygments_lexer": "ipython3",
   "version": "3.11.5"
  }
 },
 "nbformat": 4,
 "nbformat_minor": 5
}
